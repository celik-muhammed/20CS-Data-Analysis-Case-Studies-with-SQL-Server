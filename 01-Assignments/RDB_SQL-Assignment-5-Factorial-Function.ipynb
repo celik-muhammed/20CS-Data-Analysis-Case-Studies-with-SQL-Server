{
    "metadata": {
        "kernelspec": {
            "name": "SQL",
            "display_name": "SQL",
            "language": "sql"
        },
        "language_info": {
            "name": "sql",
            "version": ""
        }
    },
    "nbformat_minor": 2,
    "nbformat": 4,
    "cells": [
        {
            "cell_type": "code",
            "source": [
                "--Factorial Function \r\n",
                "--Create a scalar-valued function that returns the factorial of a number you gave it.\r\n",
                "USE SampleRetail\r\n",
                "GO"
            ],
            "metadata": {
                "azdata_cell_guid": "3e598757-b647-4ab1-ab19-0d6281f38d71",
                "language": "sql"
            },
            "outputs": [
                {
                    "output_type": "display_data",
                    "data": {
                        "text/html": "Commands completed successfully."
                    },
                    "metadata": {}
                },
                {
                    "output_type": "display_data",
                    "data": {
                        "text/html": "Total execution time: 00:00:00.012"
                    },
                    "metadata": {}
                }
            ],
            "execution_count": 1
        },
        {
            "cell_type": "code",
            "source": [
                "--Factorial Function\r\n",
                "--Saved to Programmability -> Scalar-Valued Function\r\n",
                "CREATE OR ALTER FUNCTION factorial (\r\n",
                "\t@input INT\r\n",
                ") \r\n",
                "RETURNS INT\r\n",
                "AS\r\n",
                "BEGIN\r\n",
                "\tDECLARE\r\n",
                "\t@result INT = 1\r\n",
                "\t\r\n",
                "\t--RETURN NULL IF NEGATIF\r\n",
                "\tIF @input<0 \r\n",
                "\t\tBEGIN \r\n",
                "\t\tRETURN NULL \r\n",
                "\t\tEND\r\n",
                "\t--RETURN 1 IF ZERO\r\n",
                "\tELSE IF @input=0 \r\n",
                "\t\tBEGIN \r\n",
                "\t\tRETURN 1 \r\n",
                "\t\tEND\r\n",
                "\tELSE\r\n",
                "\t\t--CALC RESULT IF POSITIVE NUMBER\r\n",
                "\t\tWHILE @input>0\r\n",
                "\t\tBEGIN\r\n",
                "\t\t\tset @result *= @input\r\n",
                "\t\t\tset @input -= 1\r\n",
                "\t\tEND\r\n",
                "\tRETURN @result\r\n",
                "END\r\n",
                "GO"
            ],
            "metadata": {
                "language": "sql",
                "azdata_cell_guid": "0a2fdd1e-4958-49ed-bf76-c992d901faa5"
            },
            "outputs": [
                {
                    "output_type": "display_data",
                    "data": {
                        "text/html": "Commands completed successfully."
                    },
                    "metadata": {}
                },
                {
                    "output_type": "display_data",
                    "data": {
                        "text/html": "Total execution time: 00:00:00.018"
                    },
                    "metadata": {}
                }
            ],
            "execution_count": 2
        },
        {
            "cell_type": "code",
            "source": [
                "-- CALL FUNCTION\r\n",
                "select\tdbo.factorial(-5) negatif\r\n",
                "\t\t,dbo.factorial(0) zero\r\n",
                "\t\t,dbo.factorial(5) pozitif;\r\n",
                "GO"
            ],
            "metadata": {
                "azdata_cell_guid": "0bef149e-2978-4c59-82f9-f326891e30d7",
                "language": "sql"
            },
            "outputs": [
                {
                    "output_type": "display_data",
                    "data": {
                        "text/html": "(1 row affected)"
                    },
                    "metadata": {}
                },
                {
                    "output_type": "display_data",
                    "data": {
                        "text/html": "Total execution time: 00:00:00.052"
                    },
                    "metadata": {}
                },
                {
                    "output_type": "execute_result",
                    "metadata": {},
                    "execution_count": 3,
                    "data": {
                        "application/vnd.dataresource+json": {
                            "schema": {
                                "fields": [
                                    {
                                        "name": "negatif"
                                    },
                                    {
                                        "name": "zero"
                                    },
                                    {
                                        "name": "pozitif"
                                    }
                                ]
                            },
                            "data": [
                                {
                                    "0": "NULL",
                                    "1": "1",
                                    "2": "120"
                                }
                            ]
                        },
                        "text/html": [
                            "<table>",
                            "<tr><th>negatif</th><th>zero</th><th>pozitif</th></tr>",
                            "<tr><td>NULL</td><td>1</td><td>120</td></tr>",
                            "</table>"
                        ]
                    }
                }
            ],
            "execution_count": 3
        },
        {
            "cell_type": "code",
            "source": [
                "-- CALL FUNCTION WITH DECLARE\r\n",
                "DECLARE\r\n",
                "@num_neg INT = -5,\r\n",
                "@num_zero INT = 0,\r\n",
                "@num_poz INT = 5\r\n",
                "\r\n",
                "select\tdbo.factorial(@num_neg) negatif\r\n",
                "\t\t,dbo.factorial(@num_zero) zero\r\n",
                "\t\t,dbo.factorial(@num_poz) pozitif;\r\n",
                "GO"
            ],
            "metadata": {
                "language": "sql",
                "azdata_cell_guid": "e1686086-88aa-4fd7-a798-95948028cba3"
            },
            "outputs": [
                {
                    "output_type": "display_data",
                    "data": {
                        "text/html": "(1 row affected)"
                    },
                    "metadata": {}
                },
                {
                    "output_type": "display_data",
                    "data": {
                        "text/html": "Total execution time: 00:00:00.003"
                    },
                    "metadata": {}
                },
                {
                    "output_type": "execute_result",
                    "metadata": {},
                    "execution_count": 4,
                    "data": {
                        "application/vnd.dataresource+json": {
                            "schema": {
                                "fields": [
                                    {
                                        "name": "negatif"
                                    },
                                    {
                                        "name": "zero"
                                    },
                                    {
                                        "name": "pozitif"
                                    }
                                ]
                            },
                            "data": [
                                {
                                    "0": "NULL",
                                    "1": "1",
                                    "2": "120"
                                }
                            ]
                        },
                        "text/html": [
                            "<table>",
                            "<tr><th>negatif</th><th>zero</th><th>pozitif</th></tr>",
                            "<tr><td>NULL</td><td>1</td><td>120</td></tr>",
                            "</table>"
                        ]
                    }
                }
            ],
            "execution_count": 4
        },
        {
            "cell_type": "code",
            "source": [
                "-- CALL FUNCTION WITH FROM-FROM\r\n",
                "SELECT\tdbo.factorial(number) \r\n",
                "FROM\t(\r\n",
                "\tVALUES (-3),(-2),(-1),(0),(1),(2),(3)\r\n",
                ") tbl(number)\r\n",
                "GO"
            ],
            "metadata": {
                "language": "sql",
                "azdata_cell_guid": "71929f19-3dbd-43e0-905c-c992cb247cf6"
            },
            "outputs": [
                {
                    "output_type": "display_data",
                    "data": {
                        "text/html": "(7 rows affected)"
                    },
                    "metadata": {}
                },
                {
                    "output_type": "display_data",
                    "data": {
                        "text/html": "Total execution time: 00:00:00.006"
                    },
                    "metadata": {}
                },
                {
                    "output_type": "execute_result",
                    "metadata": {},
                    "execution_count": 5,
                    "data": {
                        "application/vnd.dataresource+json": {
                            "schema": {
                                "fields": [
                                    {
                                        "name": "(No column name)"
                                    }
                                ]
                            },
                            "data": [
                                {
                                    "0": "NULL"
                                },
                                {
                                    "0": "NULL"
                                },
                                {
                                    "0": "NULL"
                                },
                                {
                                    "0": "1"
                                },
                                {
                                    "0": "1"
                                },
                                {
                                    "0": "2"
                                },
                                {
                                    "0": "6"
                                }
                            ]
                        },
                        "text/html": [
                            "<table>",
                            "<tr><th>(No column name)</th></tr>",
                            "<tr><td>NULL</td></tr>",
                            "<tr><td>NULL</td></tr>",
                            "<tr><td>NULL</td></tr>",
                            "<tr><td>1</td></tr>",
                            "<tr><td>1</td></tr>",
                            "<tr><td>2</td></tr>",
                            "<tr><td>6</td></tr>",
                            "</table>"
                        ]
                    }
                }
            ],
            "execution_count": 5
        },
        {
            "cell_type": "code",
            "source": [
                "-- CALL FUNCTION WITH RECURSIVE\r\n",
                "WITH tbl(number) AS (\r\n",
                "    SELECT -5\r\n",
                "  UNION ALL\r\n",
                "    SELECT number+3 FROM tbl\r\n",
                "\tWHERE\tnumber<5\r\n",
                ")\r\n",
                "SELECT\tdbo.factorial(number) \r\n",
                "FROM\ttbl \r\n",
                "GO"
            ],
            "metadata": {
                "language": "sql",
                "azdata_cell_guid": "d99390e2-d3bd-4a8c-bab1-45529b68993e"
            },
            "outputs": [
                {
                    "output_type": "display_data",
                    "data": {
                        "text/html": "(5 rows affected)"
                    },
                    "metadata": {}
                },
                {
                    "output_type": "display_data",
                    "data": {
                        "text/html": "Total execution time: 00:00:00.007"
                    },
                    "metadata": {}
                },
                {
                    "output_type": "execute_result",
                    "metadata": {},
                    "execution_count": 6,
                    "data": {
                        "application/vnd.dataresource+json": {
                            "schema": {
                                "fields": [
                                    {
                                        "name": "(No column name)"
                                    }
                                ]
                            },
                            "data": [
                                {
                                    "0": "NULL"
                                },
                                {
                                    "0": "NULL"
                                },
                                {
                                    "0": "1"
                                },
                                {
                                    "0": "24"
                                },
                                {
                                    "0": "5040"
                                }
                            ]
                        },
                        "text/html": [
                            "<table>",
                            "<tr><th>(No column name)</th></tr>",
                            "<tr><td>NULL</td></tr>",
                            "<tr><td>NULL</td></tr>",
                            "<tr><td>1</td></tr>",
                            "<tr><td>24</td></tr>",
                            "<tr><td>5040</td></tr>",
                            "</table>"
                        ]
                    }
                }
            ],
            "execution_count": 6
        }
    ]
}