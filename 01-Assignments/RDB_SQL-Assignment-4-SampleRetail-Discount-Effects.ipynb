{
    "metadata": {
        "kernelspec": {
            "name": "SQL",
            "display_name": "SQL",
            "language": "sql"
        },
        "language_info": {
            "name": "sql",
            "version": ""
        }
    },
    "nbformat_minor": 2,
    "nbformat": 4,
    "cells": [
        {
            "cell_type": "markdown",
            "source": [
                "# Assignment 4"
            ],
            "metadata": {
                "language": "sql",
                "azdata_cell_guid": "08aa3470-9851-4410-8c4a-c5ee8ffe0b35"
            },
            "attachments": {}
        },
        {
            "cell_type": "markdown",
            "source": [
                "```\r\n",
                "--Var olan minimum indirim değeri kontrol parametresi olarak kabul edilmiştir \r\n",
                "--[0.05]  total_quantity\r\n",
                "--Var olan minimum indirim sonrasındaki indirimlerin quantity ortalaması alınmıştır \r\n",
                "--[0.07],[0.10],[0.20]  Avg_Last_3_Discount\r\n",
                "--Quantity farkı ile kıyaslama yapılmıştır\r\n",
                "--Avg_Last_3_Discount-Avg_Last_3_Discount 0>Positive, 0<Negative, Neutral\r\n",
                "```"
            ],
            "metadata": {
                "language": "sql",
                "azdata_cell_guid": "aa267c9d-2ba1-4daa-9f40-dc391332baa3"
            },
            "attachments": {}
        },
        {
            "cell_type": "code",
            "source": [
                "USE SampleRetail;\r\n",
                "GO"
            ],
            "metadata": {
                "language": "sql",
                "azdata_cell_guid": "70f7889b-ce50-4237-b9b3-e692299409b2"
            },
            "outputs": [
                {
                    "output_type": "display_data",
                    "data": {
                        "text/html": "Commands completed successfully."
                    },
                    "metadata": {}
                },
                {
                    "output_type": "display_data",
                    "data": {
                        "text/html": "Total execution time: 00:00:00"
                    },
                    "metadata": {}
                }
            ],
            "execution_count": 1
        },
        {
            "cell_type": "code",
            "source": [
                "SELECT  TOP 0.2 PERCENT *\r\n",
                "FROM    sale.order_item\r\n",
                "--examine result:\r\n",
                "--1 Order, 5 item, 8 quantity, 4 discount category\r\n",
                "GO"
            ],
            "metadata": {
                "language": "sql",
                "azdata_cell_guid": "93da7fec-6fa9-4cc9-b69d-84ae329f3010"
            },
            "outputs": [
                {
                    "output_type": "display_data",
                    "data": {
                        "text/html": "(10 rows affected)"
                    },
                    "metadata": {}
                },
                {
                    "output_type": "display_data",
                    "data": {
                        "text/html": "Total execution time: 00:00:00.020"
                    },
                    "metadata": {}
                },
                {
                    "output_type": "execute_result",
                    "metadata": {},
                    "execution_count": 2,
                    "data": {
                        "application/vnd.dataresource+json": {
                            "schema": {
                                "fields": [
                                    {
                                        "name": "order_id"
                                    },
                                    {
                                        "name": "item_id"
                                    },
                                    {
                                        "name": "product_id"
                                    },
                                    {
                                        "name": "quantity"
                                    },
                                    {
                                        "name": "list_price"
                                    },
                                    {
                                        "name": "discount"
                                    }
                                ]
                            },
                            "data": [
                                {
                                    "0": "1",
                                    "1": "1",
                                    "2": "20",
                                    "3": "1",
                                    "4": "249.99",
                                    "5": "0.20"
                                },
                                {
                                    "0": "1",
                                    "1": "2",
                                    "2": "8",
                                    "3": "2",
                                    "4": "99.99",
                                    "5": "0.07"
                                },
                                {
                                    "0": "1",
                                    "1": "3",
                                    "2": "10",
                                    "3": "2",
                                    "4": "174.99",
                                    "5": "0.05"
                                },
                                {
                                    "0": "1",
                                    "1": "4",
                                    "2": "16",
                                    "3": "2",
                                    "4": "599.00",
                                    "5": "0.05"
                                },
                                {
                                    "0": "1",
                                    "1": "5",
                                    "2": "4",
                                    "3": "1",
                                    "4": "151.99",
                                    "5": "0.20"
                                },
                                {
                                    "0": "2",
                                    "1": "1",
                                    "2": "20",
                                    "3": "1",
                                    "4": "249.99",
                                    "5": "0.07"
                                },
                                {
                                    "0": "2",
                                    "1": "2",
                                    "2": "16",
                                    "3": "2",
                                    "4": "599.00",
                                    "5": "0.05"
                                },
                                {
                                    "0": "3",
                                    "1": "1",
                                    "2": "3",
                                    "3": "1",
                                    "4": "599.00",
                                    "5": "0.05"
                                },
                                {
                                    "0": "3",
                                    "1": "2",
                                    "2": "20",
                                    "3": "1",
                                    "4": "249.99",
                                    "5": "0.05"
                                },
                                {
                                    "0": "4",
                                    "1": "1",
                                    "2": "2",
                                    "3": "2",
                                    "4": "136.99",
                                    "5": "0.10"
                                }
                            ]
                        },
                        "text/html": [
                            "<table>",
                            "<tr><th>order_id</th><th>item_id</th><th>product_id</th><th>quantity</th><th>list_price</th><th>discount</th></tr>",
                            "<tr><td>1</td><td>1</td><td>20</td><td>1</td><td>249.99</td><td>0.20</td></tr>",
                            "<tr><td>1</td><td>2</td><td>8</td><td>2</td><td>99.99</td><td>0.07</td></tr>",
                            "<tr><td>1</td><td>3</td><td>10</td><td>2</td><td>174.99</td><td>0.05</td></tr>",
                            "<tr><td>1</td><td>4</td><td>16</td><td>2</td><td>599.00</td><td>0.05</td></tr>",
                            "<tr><td>1</td><td>5</td><td>4</td><td>1</td><td>151.99</td><td>0.20</td></tr>",
                            "<tr><td>2</td><td>1</td><td>20</td><td>1</td><td>249.99</td><td>0.07</td></tr>",
                            "<tr><td>2</td><td>2</td><td>16</td><td>2</td><td>599.00</td><td>0.05</td></tr>",
                            "<tr><td>3</td><td>1</td><td>3</td><td>1</td><td>599.00</td><td>0.05</td></tr>",
                            "<tr><td>3</td><td>2</td><td>20</td><td>1</td><td>249.99</td><td>0.05</td></tr>",
                            "<tr><td>4</td><td>1</td><td>2</td><td>2</td><td>136.99</td><td>0.10</td></tr>",
                            "</table>"
                        ]
                    }
                }
            ],
            "execution_count": 2
        },
        {
            "cell_type": "code",
            "source": [
                "-- Unpivot the table.  \r\n",
                "SELECT Count_of_Order_Item, Datas \r\n",
                "FROM\t(\r\n",
                "    --Count Orders Item Table \r\n",
                "\tselect\tCOUNT(*) Order_Item_Rows\r\n",
                "\t\t\t,COUNT(distinct order_id) Different_Orders\r\n",
                "\t\t\t,COUNT(distinct product_id) Different_Products\r\n",
                "\t\t\t,SUM(quantity) Total_Quantities\r\n",
                "\t\t\t,COUNT(distinct discount) Discount_Category\r\n",
                "\tfrom sale.order_item\r\n",
                ") like_pvt  \r\n",
                "UNPIVOT\t(\r\n",
                "\tDatas \r\n",
                "\tFOR Count_of_Order_Item IN (\r\n",
                "\t\tOrder_Item_Rows\r\n",
                "        ,Different_Orders\r\n",
                "        ,Different_Products\r\n",
                "        ,Total_Quantities \r\n",
                "        ,Discount_Category \r\n",
                "\t\t\r\n",
                "\t)  \r\n",
                ")AS unpvt;    \r\n",
                "--examine result: Products, Orders, Discount, Quantities\r\n",
                "GO "
            ],
            "metadata": {
                "azdata_cell_guid": "a7eb2f8e-1655-4657-a68c-6cb543dbe103",
                "language": "sql"
            },
            "outputs": [
                {
                    "output_type": "display_data",
                    "data": {
                        "text/html": "(5 rows affected)"
                    },
                    "metadata": {}
                },
                {
                    "output_type": "display_data",
                    "data": {
                        "text/html": "Total execution time: 00:00:00.010"
                    },
                    "metadata": {}
                },
                {
                    "output_type": "execute_result",
                    "metadata": {},
                    "execution_count": 3,
                    "data": {
                        "application/vnd.dataresource+json": {
                            "schema": {
                                "fields": [
                                    {
                                        "name": "Count_of_Order_Item"
                                    },
                                    {
                                        "name": "Datas"
                                    }
                                ]
                            },
                            "data": [
                                {
                                    "0": "Order_Item_Rows",
                                    "1": "4722"
                                },
                                {
                                    "0": "Different_Orders",
                                    "1": "1615"
                                },
                                {
                                    "0": "Different_Products",
                                    "1": "307"
                                },
                                {
                                    "0": "Total_Quantities",
                                    "1": "7078"
                                },
                                {
                                    "0": "Discount_Category",
                                    "1": "4"
                                }
                            ]
                        },
                        "text/html": [
                            "<table>",
                            "<tr><th>Count_of_Order_Item</th><th>Datas</th></tr>",
                            "<tr><td>Order_Item_Rows</td><td>4722</td></tr>",
                            "<tr><td>Different_Orders</td><td>1615</td></tr>",
                            "<tr><td>Different_Products</td><td>307</td></tr>",
                            "<tr><td>Total_Quantities</td><td>7078</td></tr>",
                            "<tr><td>Discount_Category</td><td>4</td></tr>",
                            "</table>"
                        ]
                    }
                }
            ],
            "execution_count": 3
        },
        {
            "cell_type": "code",
            "source": [
                "drop table if exists #temp_tbl_1;\r\n",
                "\r\n",
                "--Create temp table 1\r\n",
                "--WINDOW FUN ile count_order ve total_quantity\r\n",
                "select\tdistinct product_id, discount\r\n",
                "        ,count(order_id) OVER(partition by product_id, discount) count_order\r\n",
                "        ,sum(quantity) OVER(partition by product_id, discount) total_quantity\r\n",
                "INTO\t#temp_tbl_1\r\n",
                "from sale.order_item\r\n",
                "\r\n",
                "select\tTOP 10 PERCENT *\r\n",
                "from    #temp_tbl_1\r\n",
                "--examine result: count_order, total_quantity, choosed-total_quantity\r\n",
                "GO"
            ],
            "metadata": {
                "azdata_cell_guid": "1fd0e39f-3f38-4755-946c-2f9eab44086b",
                "language": "sql"
            },
            "outputs": [
                {
                    "output_type": "display_data",
                    "data": {
                        "text/html": "(849 rows affected)"
                    },
                    "metadata": {}
                },
                {
                    "output_type": "display_data",
                    "data": {
                        "text/html": "(85 rows affected)"
                    },
                    "metadata": {}
                },
                {
                    "output_type": "display_data",
                    "data": {
                        "text/html": "Total execution time: 00:00:00.037"
                    },
                    "metadata": {}
                },
                {
                    "output_type": "execute_result",
                    "metadata": {},
                    "execution_count": 4,
                    "data": {
                        "application/vnd.dataresource+json": {
                            "schema": {
                                "fields": [
                                    {
                                        "name": "product_id"
                                    },
                                    {
                                        "name": "discount"
                                    },
                                    {
                                        "name": "count_order"
                                    },
                                    {
                                        "name": "total_quantity"
                                    }
                                ]
                            },
                            "data": [
                                {
                                    "0": "2",
                                    "1": "0.05",
                                    "2": "18",
                                    "3": "26"
                                },
                                {
                                    "0": "2",
                                    "1": "0.07",
                                    "2": "20",
                                    "3": "30"
                                },
                                {
                                    "0": "2",
                                    "1": "0.10",
                                    "2": "18",
                                    "3": "30"
                                },
                                {
                                    "0": "2",
                                    "1": "0.20",
                                    "2": "21",
                                    "3": "32"
                                },
                                {
                                    "0": "3",
                                    "1": "0.05",
                                    "2": "27",
                                    "3": "37"
                                },
                                {
                                    "0": "3",
                                    "1": "0.07",
                                    "2": "19",
                                    "3": "28"
                                },
                                {
                                    "0": "3",
                                    "1": "0.10",
                                    "2": "16",
                                    "3": "23"
                                },
                                {
                                    "0": "3",
                                    "1": "0.20",
                                    "2": "24",
                                    "3": "38"
                                },
                                {
                                    "0": "4",
                                    "1": "0.05",
                                    "2": "22",
                                    "3": "35"
                                },
                                {
                                    "0": "4",
                                    "1": "0.07",
                                    "2": "26",
                                    "3": "37"
                                },
                                {
                                    "0": "4",
                                    "1": "0.10",
                                    "2": "18",
                                    "3": "26"
                                },
                                {
                                    "0": "4",
                                    "1": "0.20",
                                    "2": "31",
                                    "3": "45"
                                },
                                {
                                    "0": "5",
                                    "1": "0.05",
                                    "2": "24",
                                    "3": "34"
                                },
                                {
                                    "0": "5",
                                    "1": "0.07",
                                    "2": "16",
                                    "3": "21"
                                },
                                {
                                    "0": "5",
                                    "1": "0.10",
                                    "2": "23",
                                    "3": "34"
                                },
                                {
                                    "0": "5",
                                    "1": "0.20",
                                    "2": "28",
                                    "3": "40"
                                },
                                {
                                    "0": "6",
                                    "1": "0.05",
                                    "2": "28",
                                    "3": "46"
                                },
                                {
                                    "0": "6",
                                    "1": "0.07",
                                    "2": "29",
                                    "3": "41"
                                },
                                {
                                    "0": "6",
                                    "1": "0.10",
                                    "2": "27",
                                    "3": "39"
                                },
                                {
                                    "0": "6",
                                    "1": "0.20",
                                    "2": "26",
                                    "3": "41"
                                },
                                {
                                    "0": "7",
                                    "1": "0.05",
                                    "2": "28",
                                    "3": "44"
                                },
                                {
                                    "0": "7",
                                    "1": "0.07",
                                    "2": "26",
                                    "3": "43"
                                },
                                {
                                    "0": "7",
                                    "1": "0.10",
                                    "2": "26",
                                    "3": "35"
                                },
                                {
                                    "0": "7",
                                    "1": "0.20",
                                    "2": "21",
                                    "3": "32"
                                },
                                {
                                    "0": "8",
                                    "1": "0.05",
                                    "2": "24",
                                    "3": "41"
                                },
                                {
                                    "0": "8",
                                    "1": "0.07",
                                    "2": "21",
                                    "3": "28"
                                },
                                {
                                    "0": "8",
                                    "1": "0.10",
                                    "2": "23",
                                    "3": "32"
                                },
                                {
                                    "0": "8",
                                    "1": "0.20",
                                    "2": "17",
                                    "3": "24"
                                },
                                {
                                    "0": "9",
                                    "1": "0.05",
                                    "2": "27",
                                    "3": "37"
                                },
                                {
                                    "0": "9",
                                    "1": "0.07",
                                    "2": "21",
                                    "3": "30"
                                },
                                {
                                    "0": "9",
                                    "1": "0.10",
                                    "2": "29",
                                    "3": "43"
                                },
                                {
                                    "0": "9",
                                    "1": "0.20",
                                    "2": "24",
                                    "3": "35"
                                },
                                {
                                    "0": "10",
                                    "1": "0.05",
                                    "2": "25",
                                    "3": "40"
                                },
                                {
                                    "0": "10",
                                    "1": "0.07",
                                    "2": "24",
                                    "3": "36"
                                },
                                {
                                    "0": "10",
                                    "1": "0.10",
                                    "2": "21",
                                    "3": "31"
                                },
                                {
                                    "0": "10",
                                    "1": "0.20",
                                    "2": "27",
                                    "3": "40"
                                },
                                {
                                    "0": "11",
                                    "1": "0.05",
                                    "2": "17",
                                    "3": "27"
                                },
                                {
                                    "0": "11",
                                    "1": "0.07",
                                    "2": "26",
                                    "3": "45"
                                },
                                {
                                    "0": "11",
                                    "1": "0.10",
                                    "2": "27",
                                    "3": "42"
                                },
                                {
                                    "0": "11",
                                    "1": "0.20",
                                    "2": "27",
                                    "3": "37"
                                },
                                {
                                    "0": "12",
                                    "1": "0.05",
                                    "2": "29",
                                    "3": "40"
                                },
                                {
                                    "0": "12",
                                    "1": "0.07",
                                    "2": "24",
                                    "3": "39"
                                },
                                {
                                    "0": "12",
                                    "1": "0.10",
                                    "2": "29",
                                    "3": "43"
                                },
                                {
                                    "0": "12",
                                    "1": "0.20",
                                    "2": "22",
                                    "3": "31"
                                },
                                {
                                    "0": "13",
                                    "1": "0.05",
                                    "2": "23",
                                    "3": "37"
                                },
                                {
                                    "0": "13",
                                    "1": "0.07",
                                    "2": "25",
                                    "3": "39"
                                },
                                {
                                    "0": "13",
                                    "1": "0.10",
                                    "2": "32",
                                    "3": "45"
                                },
                                {
                                    "0": "13",
                                    "1": "0.20",
                                    "2": "23",
                                    "3": "36"
                                },
                                {
                                    "0": "14",
                                    "1": "0.05",
                                    "2": "14",
                                    "3": "21"
                                },
                                {
                                    "0": "14",
                                    "1": "0.07",
                                    "2": "20",
                                    "3": "29"
                                },
                                {
                                    "0": "14",
                                    "1": "0.10",
                                    "2": "29",
                                    "3": "42"
                                },
                                {
                                    "0": "14",
                                    "1": "0.20",
                                    "2": "23",
                                    "3": "32"
                                },
                                {
                                    "0": "15",
                                    "1": "0.05",
                                    "2": "24",
                                    "3": "36"
                                },
                                {
                                    "0": "15",
                                    "1": "0.07",
                                    "2": "22",
                                    "3": "32"
                                },
                                {
                                    "0": "15",
                                    "1": "0.10",
                                    "2": "25",
                                    "3": "36"
                                },
                                {
                                    "0": "15",
                                    "1": "0.20",
                                    "2": "20",
                                    "3": "33"
                                },
                                {
                                    "0": "16",
                                    "1": "0.05",
                                    "2": "28",
                                    "3": "42"
                                },
                                {
                                    "0": "16",
                                    "1": "0.07",
                                    "2": "17",
                                    "3": "27"
                                },
                                {
                                    "0": "16",
                                    "1": "0.10",
                                    "2": "19",
                                    "3": "33"
                                },
                                {
                                    "0": "16",
                                    "1": "0.20",
                                    "2": "31",
                                    "3": "54"
                                },
                                {
                                    "0": "17",
                                    "1": "0.05",
                                    "2": "23",
                                    "3": "35"
                                },
                                {
                                    "0": "17",
                                    "1": "0.07",
                                    "2": "27",
                                    "3": "39"
                                },
                                {
                                    "0": "17",
                                    "1": "0.10",
                                    "2": "25",
                                    "3": "34"
                                },
                                {
                                    "0": "17",
                                    "1": "0.20",
                                    "2": "16",
                                    "3": "25"
                                },
                                {
                                    "0": "18",
                                    "1": "0.05",
                                    "2": "25",
                                    "3": "40"
                                },
                                {
                                    "0": "18",
                                    "1": "0.07",
                                    "2": "25",
                                    "3": "39"
                                },
                                {
                                    "0": "18",
                                    "1": "0.10",
                                    "2": "18",
                                    "3": "26"
                                },
                                {
                                    "0": "18",
                                    "1": "0.20",
                                    "2": "21",
                                    "3": "29"
                                },
                                {
                                    "0": "19",
                                    "1": "0.05",
                                    "2": "15",
                                    "3": "21"
                                },
                                {
                                    "0": "19",
                                    "1": "0.07",
                                    "2": "24",
                                    "3": "34"
                                },
                                {
                                    "0": "19",
                                    "1": "0.10",
                                    "2": "19",
                                    "3": "25"
                                },
                                {
                                    "0": "19",
                                    "1": "0.20",
                                    "2": "20",
                                    "3": "29"
                                },
                                {
                                    "0": "20",
                                    "1": "0.05",
                                    "2": "21",
                                    "3": "32"
                                },
                                {
                                    "0": "20",
                                    "1": "0.07",
                                    "2": "17",
                                    "3": "25"
                                },
                                {
                                    "0": "20",
                                    "1": "0.10",
                                    "2": "19",
                                    "3": "28"
                                },
                                {
                                    "0": "20",
                                    "1": "0.20",
                                    "2": "27",
                                    "3": "40"
                                },
                                {
                                    "0": "21",
                                    "1": "0.05",
                                    "2": "25",
                                    "3": "37"
                                },
                                {
                                    "0": "21",
                                    "1": "0.07",
                                    "2": "29",
                                    "3": "49"
                                },
                                {
                                    "0": "21",
                                    "1": "0.10",
                                    "2": "21",
                                    "3": "31"
                                },
                                {
                                    "0": "21",
                                    "1": "0.20",
                                    "2": "15",
                                    "3": "22"
                                },
                                {
                                    "0": "22",
                                    "1": "0.05",
                                    "2": "21",
                                    "3": "30"
                                },
                                {
                                    "0": "22",
                                    "1": "0.07",
                                    "2": "22",
                                    "3": "31"
                                },
                                {
                                    "0": "22",
                                    "1": "0.10",
                                    "2": "25",
                                    "3": "41"
                                },
                                {
                                    "0": "22",
                                    "1": "0.20",
                                    "2": "26",
                                    "3": "43"
                                },
                                {
                                    "0": "23",
                                    "1": "0.05",
                                    "2": "24",
                                    "3": "36"
                                }
                            ]
                        },
                        "text/html": [
                            "<table>",
                            "<tr><th>product_id</th><th>discount</th><th>count_order</th><th>total_quantity</th></tr>",
                            "<tr><td>2</td><td>0.05</td><td>18</td><td>26</td></tr>",
                            "<tr><td>2</td><td>0.07</td><td>20</td><td>30</td></tr>",
                            "<tr><td>2</td><td>0.10</td><td>18</td><td>30</td></tr>",
                            "<tr><td>2</td><td>0.20</td><td>21</td><td>32</td></tr>",
                            "<tr><td>3</td><td>0.05</td><td>27</td><td>37</td></tr>",
                            "<tr><td>3</td><td>0.07</td><td>19</td><td>28</td></tr>",
                            "<tr><td>3</td><td>0.10</td><td>16</td><td>23</td></tr>",
                            "<tr><td>3</td><td>0.20</td><td>24</td><td>38</td></tr>",
                            "<tr><td>4</td><td>0.05</td><td>22</td><td>35</td></tr>",
                            "<tr><td>4</td><td>0.07</td><td>26</td><td>37</td></tr>",
                            "<tr><td>4</td><td>0.10</td><td>18</td><td>26</td></tr>",
                            "<tr><td>4</td><td>0.20</td><td>31</td><td>45</td></tr>",
                            "<tr><td>5</td><td>0.05</td><td>24</td><td>34</td></tr>",
                            "<tr><td>5</td><td>0.07</td><td>16</td><td>21</td></tr>",
                            "<tr><td>5</td><td>0.10</td><td>23</td><td>34</td></tr>",
                            "<tr><td>5</td><td>0.20</td><td>28</td><td>40</td></tr>",
                            "<tr><td>6</td><td>0.05</td><td>28</td><td>46</td></tr>",
                            "<tr><td>6</td><td>0.07</td><td>29</td><td>41</td></tr>",
                            "<tr><td>6</td><td>0.10</td><td>27</td><td>39</td></tr>",
                            "<tr><td>6</td><td>0.20</td><td>26</td><td>41</td></tr>",
                            "<tr><td>7</td><td>0.05</td><td>28</td><td>44</td></tr>",
                            "<tr><td>7</td><td>0.07</td><td>26</td><td>43</td></tr>",
                            "<tr><td>7</td><td>0.10</td><td>26</td><td>35</td></tr>",
                            "<tr><td>7</td><td>0.20</td><td>21</td><td>32</td></tr>",
                            "<tr><td>8</td><td>0.05</td><td>24</td><td>41</td></tr>",
                            "<tr><td>8</td><td>0.07</td><td>21</td><td>28</td></tr>",
                            "<tr><td>8</td><td>0.10</td><td>23</td><td>32</td></tr>",
                            "<tr><td>8</td><td>0.20</td><td>17</td><td>24</td></tr>",
                            "<tr><td>9</td><td>0.05</td><td>27</td><td>37</td></tr>",
                            "<tr><td>9</td><td>0.07</td><td>21</td><td>30</td></tr>",
                            "<tr><td>9</td><td>0.10</td><td>29</td><td>43</td></tr>",
                            "<tr><td>9</td><td>0.20</td><td>24</td><td>35</td></tr>",
                            "<tr><td>10</td><td>0.05</td><td>25</td><td>40</td></tr>",
                            "<tr><td>10</td><td>0.07</td><td>24</td><td>36</td></tr>",
                            "<tr><td>10</td><td>0.10</td><td>21</td><td>31</td></tr>",
                            "<tr><td>10</td><td>0.20</td><td>27</td><td>40</td></tr>",
                            "<tr><td>11</td><td>0.05</td><td>17</td><td>27</td></tr>",
                            "<tr><td>11</td><td>0.07</td><td>26</td><td>45</td></tr>",
                            "<tr><td>11</td><td>0.10</td><td>27</td><td>42</td></tr>",
                            "<tr><td>11</td><td>0.20</td><td>27</td><td>37</td></tr>",
                            "<tr><td>12</td><td>0.05</td><td>29</td><td>40</td></tr>",
                            "<tr><td>12</td><td>0.07</td><td>24</td><td>39</td></tr>",
                            "<tr><td>12</td><td>0.10</td><td>29</td><td>43</td></tr>",
                            "<tr><td>12</td><td>0.20</td><td>22</td><td>31</td></tr>",
                            "<tr><td>13</td><td>0.05</td><td>23</td><td>37</td></tr>",
                            "<tr><td>13</td><td>0.07</td><td>25</td><td>39</td></tr>",
                            "<tr><td>13</td><td>0.10</td><td>32</td><td>45</td></tr>",
                            "<tr><td>13</td><td>0.20</td><td>23</td><td>36</td></tr>",
                            "<tr><td>14</td><td>0.05</td><td>14</td><td>21</td></tr>",
                            "<tr><td>14</td><td>0.07</td><td>20</td><td>29</td></tr>",
                            "<tr><td>14</td><td>0.10</td><td>29</td><td>42</td></tr>",
                            "<tr><td>14</td><td>0.20</td><td>23</td><td>32</td></tr>",
                            "<tr><td>15</td><td>0.05</td><td>24</td><td>36</td></tr>",
                            "<tr><td>15</td><td>0.07</td><td>22</td><td>32</td></tr>",
                            "<tr><td>15</td><td>0.10</td><td>25</td><td>36</td></tr>",
                            "<tr><td>15</td><td>0.20</td><td>20</td><td>33</td></tr>",
                            "<tr><td>16</td><td>0.05</td><td>28</td><td>42</td></tr>",
                            "<tr><td>16</td><td>0.07</td><td>17</td><td>27</td></tr>",
                            "<tr><td>16</td><td>0.10</td><td>19</td><td>33</td></tr>",
                            "<tr><td>16</td><td>0.20</td><td>31</td><td>54</td></tr>",
                            "<tr><td>17</td><td>0.05</td><td>23</td><td>35</td></tr>",
                            "<tr><td>17</td><td>0.07</td><td>27</td><td>39</td></tr>",
                            "<tr><td>17</td><td>0.10</td><td>25</td><td>34</td></tr>",
                            "<tr><td>17</td><td>0.20</td><td>16</td><td>25</td></tr>",
                            "<tr><td>18</td><td>0.05</td><td>25</td><td>40</td></tr>",
                            "<tr><td>18</td><td>0.07</td><td>25</td><td>39</td></tr>",
                            "<tr><td>18</td><td>0.10</td><td>18</td><td>26</td></tr>",
                            "<tr><td>18</td><td>0.20</td><td>21</td><td>29</td></tr>",
                            "<tr><td>19</td><td>0.05</td><td>15</td><td>21</td></tr>",
                            "<tr><td>19</td><td>0.07</td><td>24</td><td>34</td></tr>",
                            "<tr><td>19</td><td>0.10</td><td>19</td><td>25</td></tr>",
                            "<tr><td>19</td><td>0.20</td><td>20</td><td>29</td></tr>",
                            "<tr><td>20</td><td>0.05</td><td>21</td><td>32</td></tr>",
                            "<tr><td>20</td><td>0.07</td><td>17</td><td>25</td></tr>",
                            "<tr><td>20</td><td>0.10</td><td>19</td><td>28</td></tr>",
                            "<tr><td>20</td><td>0.20</td><td>27</td><td>40</td></tr>",
                            "<tr><td>21</td><td>0.05</td><td>25</td><td>37</td></tr>",
                            "<tr><td>21</td><td>0.07</td><td>29</td><td>49</td></tr>",
                            "<tr><td>21</td><td>0.10</td><td>21</td><td>31</td></tr>",
                            "<tr><td>21</td><td>0.20</td><td>15</td><td>22</td></tr>",
                            "<tr><td>22</td><td>0.05</td><td>21</td><td>30</td></tr>",
                            "<tr><td>22</td><td>0.07</td><td>22</td><td>31</td></tr>",
                            "<tr><td>22</td><td>0.10</td><td>25</td><td>41</td></tr>",
                            "<tr><td>22</td><td>0.20</td><td>26</td><td>43</td></tr>",
                            "<tr><td>23</td><td>0.05</td><td>24</td><td>36</td></tr>",
                            "</table>"
                        ]
                    }
                }
            ],
            "execution_count": 4
        },
        {
            "cell_type": "code",
            "source": [
                "drop table if exists #temp_tbl_2;\r\n",
                "\r\n",
                "--Create temp table 2\r\n",
                "SELECT  product_id, discount, total_quantity\r\n",
                "        ,AVG(total_quantity) OVER(PARTITION BY product_id ORDER BY discount ROWS BETWEEN 1 FOLLOWING AND UNBOUNDED FOLLOWING) Avg_Last_3_Discount\r\n",
                "        ,DENSE_RANK() OVER(PARTITION BY product_id ORDER BY discount ) [DENSE_RANK]\r\n",
                "INTO    #temp_tbl_2\r\n",
                "FROM    #temp_tbl_1\r\n",
                "\r\n",
                "SELECT  TOP 10 PERCENT *\r\n",
                "FROM    #temp_tbl_2\r\n",
                "--examine result: \r\n",
                "--product_id: 2,\tdiscount: 0.05, \tquantity: 26\tAvg_Last_3: 30  \t[DENSE_RANK]:1 \r\n",
                "GO"
            ],
            "metadata": {
                "language": "sql",
                "azdata_cell_guid": "c7bf27cd-987f-4af6-ab8c-9b443673f3c4"
            },
            "outputs": [
                {
                    "output_type": "display_data",
                    "data": {
                        "text/html": "(849 rows affected)"
                    },
                    "metadata": {}
                },
                {
                    "output_type": "display_data",
                    "data": {
                        "text/html": "(85 rows affected)"
                    },
                    "metadata": {}
                },
                {
                    "output_type": "display_data",
                    "data": {
                        "text/html": "Total execution time: 00:00:00.024"
                    },
                    "metadata": {}
                },
                {
                    "output_type": "execute_result",
                    "metadata": {},
                    "execution_count": 5,
                    "data": {
                        "application/vnd.dataresource+json": {
                            "schema": {
                                "fields": [
                                    {
                                        "name": "product_id"
                                    },
                                    {
                                        "name": "discount"
                                    },
                                    {
                                        "name": "total_quantity"
                                    },
                                    {
                                        "name": "Avg_Last_3_Discount"
                                    },
                                    {
                                        "name": "DENSE_RANK"
                                    }
                                ]
                            },
                            "data": [
                                {
                                    "0": "2",
                                    "1": "0.05",
                                    "2": "26",
                                    "3": "30",
                                    "4": "1"
                                },
                                {
                                    "0": "2",
                                    "1": "0.07",
                                    "2": "30",
                                    "3": "31",
                                    "4": "2"
                                },
                                {
                                    "0": "2",
                                    "1": "0.10",
                                    "2": "30",
                                    "3": "32",
                                    "4": "3"
                                },
                                {
                                    "0": "2",
                                    "1": "0.20",
                                    "2": "32",
                                    "3": "NULL",
                                    "4": "4"
                                },
                                {
                                    "0": "3",
                                    "1": "0.05",
                                    "2": "37",
                                    "3": "29",
                                    "4": "1"
                                },
                                {
                                    "0": "3",
                                    "1": "0.07",
                                    "2": "28",
                                    "3": "30",
                                    "4": "2"
                                },
                                {
                                    "0": "3",
                                    "1": "0.10",
                                    "2": "23",
                                    "3": "38",
                                    "4": "3"
                                },
                                {
                                    "0": "3",
                                    "1": "0.20",
                                    "2": "38",
                                    "3": "NULL",
                                    "4": "4"
                                },
                                {
                                    "0": "4",
                                    "1": "0.05",
                                    "2": "35",
                                    "3": "36",
                                    "4": "1"
                                },
                                {
                                    "0": "4",
                                    "1": "0.07",
                                    "2": "37",
                                    "3": "35",
                                    "4": "2"
                                },
                                {
                                    "0": "4",
                                    "1": "0.10",
                                    "2": "26",
                                    "3": "45",
                                    "4": "3"
                                },
                                {
                                    "0": "4",
                                    "1": "0.20",
                                    "2": "45",
                                    "3": "NULL",
                                    "4": "4"
                                },
                                {
                                    "0": "5",
                                    "1": "0.05",
                                    "2": "34",
                                    "3": "31",
                                    "4": "1"
                                },
                                {
                                    "0": "5",
                                    "1": "0.07",
                                    "2": "21",
                                    "3": "37",
                                    "4": "2"
                                },
                                {
                                    "0": "5",
                                    "1": "0.10",
                                    "2": "34",
                                    "3": "40",
                                    "4": "3"
                                },
                                {
                                    "0": "5",
                                    "1": "0.20",
                                    "2": "40",
                                    "3": "NULL",
                                    "4": "4"
                                },
                                {
                                    "0": "6",
                                    "1": "0.05",
                                    "2": "46",
                                    "3": "40",
                                    "4": "1"
                                },
                                {
                                    "0": "6",
                                    "1": "0.07",
                                    "2": "41",
                                    "3": "40",
                                    "4": "2"
                                },
                                {
                                    "0": "6",
                                    "1": "0.10",
                                    "2": "39",
                                    "3": "41",
                                    "4": "3"
                                },
                                {
                                    "0": "6",
                                    "1": "0.20",
                                    "2": "41",
                                    "3": "NULL",
                                    "4": "4"
                                },
                                {
                                    "0": "7",
                                    "1": "0.05",
                                    "2": "44",
                                    "3": "36",
                                    "4": "1"
                                },
                                {
                                    "0": "7",
                                    "1": "0.07",
                                    "2": "43",
                                    "3": "33",
                                    "4": "2"
                                },
                                {
                                    "0": "7",
                                    "1": "0.10",
                                    "2": "35",
                                    "3": "32",
                                    "4": "3"
                                },
                                {
                                    "0": "7",
                                    "1": "0.20",
                                    "2": "32",
                                    "3": "NULL",
                                    "4": "4"
                                },
                                {
                                    "0": "8",
                                    "1": "0.05",
                                    "2": "41",
                                    "3": "28",
                                    "4": "1"
                                },
                                {
                                    "0": "8",
                                    "1": "0.07",
                                    "2": "28",
                                    "3": "28",
                                    "4": "2"
                                },
                                {
                                    "0": "8",
                                    "1": "0.10",
                                    "2": "32",
                                    "3": "24",
                                    "4": "3"
                                },
                                {
                                    "0": "8",
                                    "1": "0.20",
                                    "2": "24",
                                    "3": "NULL",
                                    "4": "4"
                                },
                                {
                                    "0": "9",
                                    "1": "0.05",
                                    "2": "37",
                                    "3": "36",
                                    "4": "1"
                                },
                                {
                                    "0": "9",
                                    "1": "0.07",
                                    "2": "30",
                                    "3": "39",
                                    "4": "2"
                                },
                                {
                                    "0": "9",
                                    "1": "0.10",
                                    "2": "43",
                                    "3": "35",
                                    "4": "3"
                                },
                                {
                                    "0": "9",
                                    "1": "0.20",
                                    "2": "35",
                                    "3": "NULL",
                                    "4": "4"
                                },
                                {
                                    "0": "10",
                                    "1": "0.05",
                                    "2": "40",
                                    "3": "35",
                                    "4": "1"
                                },
                                {
                                    "0": "10",
                                    "1": "0.07",
                                    "2": "36",
                                    "3": "35",
                                    "4": "2"
                                },
                                {
                                    "0": "10",
                                    "1": "0.10",
                                    "2": "31",
                                    "3": "40",
                                    "4": "3"
                                },
                                {
                                    "0": "10",
                                    "1": "0.20",
                                    "2": "40",
                                    "3": "NULL",
                                    "4": "4"
                                },
                                {
                                    "0": "11",
                                    "1": "0.05",
                                    "2": "27",
                                    "3": "41",
                                    "4": "1"
                                },
                                {
                                    "0": "11",
                                    "1": "0.07",
                                    "2": "45",
                                    "3": "39",
                                    "4": "2"
                                },
                                {
                                    "0": "11",
                                    "1": "0.10",
                                    "2": "42",
                                    "3": "37",
                                    "4": "3"
                                },
                                {
                                    "0": "11",
                                    "1": "0.20",
                                    "2": "37",
                                    "3": "NULL",
                                    "4": "4"
                                },
                                {
                                    "0": "12",
                                    "1": "0.05",
                                    "2": "40",
                                    "3": "37",
                                    "4": "1"
                                },
                                {
                                    "0": "12",
                                    "1": "0.07",
                                    "2": "39",
                                    "3": "37",
                                    "4": "2"
                                },
                                {
                                    "0": "12",
                                    "1": "0.10",
                                    "2": "43",
                                    "3": "31",
                                    "4": "3"
                                },
                                {
                                    "0": "12",
                                    "1": "0.20",
                                    "2": "31",
                                    "3": "NULL",
                                    "4": "4"
                                },
                                {
                                    "0": "13",
                                    "1": "0.05",
                                    "2": "37",
                                    "3": "40",
                                    "4": "1"
                                },
                                {
                                    "0": "13",
                                    "1": "0.07",
                                    "2": "39",
                                    "3": "40",
                                    "4": "2"
                                },
                                {
                                    "0": "13",
                                    "1": "0.10",
                                    "2": "45",
                                    "3": "36",
                                    "4": "3"
                                },
                                {
                                    "0": "13",
                                    "1": "0.20",
                                    "2": "36",
                                    "3": "NULL",
                                    "4": "4"
                                },
                                {
                                    "0": "14",
                                    "1": "0.05",
                                    "2": "21",
                                    "3": "34",
                                    "4": "1"
                                },
                                {
                                    "0": "14",
                                    "1": "0.07",
                                    "2": "29",
                                    "3": "37",
                                    "4": "2"
                                },
                                {
                                    "0": "14",
                                    "1": "0.10",
                                    "2": "42",
                                    "3": "32",
                                    "4": "3"
                                },
                                {
                                    "0": "14",
                                    "1": "0.20",
                                    "2": "32",
                                    "3": "NULL",
                                    "4": "4"
                                },
                                {
                                    "0": "15",
                                    "1": "0.05",
                                    "2": "36",
                                    "3": "33",
                                    "4": "1"
                                },
                                {
                                    "0": "15",
                                    "1": "0.07",
                                    "2": "32",
                                    "3": "34",
                                    "4": "2"
                                },
                                {
                                    "0": "15",
                                    "1": "0.10",
                                    "2": "36",
                                    "3": "33",
                                    "4": "3"
                                },
                                {
                                    "0": "15",
                                    "1": "0.20",
                                    "2": "33",
                                    "3": "NULL",
                                    "4": "4"
                                },
                                {
                                    "0": "16",
                                    "1": "0.05",
                                    "2": "42",
                                    "3": "38",
                                    "4": "1"
                                },
                                {
                                    "0": "16",
                                    "1": "0.07",
                                    "2": "27",
                                    "3": "43",
                                    "4": "2"
                                },
                                {
                                    "0": "16",
                                    "1": "0.10",
                                    "2": "33",
                                    "3": "54",
                                    "4": "3"
                                },
                                {
                                    "0": "16",
                                    "1": "0.20",
                                    "2": "54",
                                    "3": "NULL",
                                    "4": "4"
                                },
                                {
                                    "0": "17",
                                    "1": "0.05",
                                    "2": "35",
                                    "3": "32",
                                    "4": "1"
                                },
                                {
                                    "0": "17",
                                    "1": "0.07",
                                    "2": "39",
                                    "3": "29",
                                    "4": "2"
                                },
                                {
                                    "0": "17",
                                    "1": "0.10",
                                    "2": "34",
                                    "3": "25",
                                    "4": "3"
                                },
                                {
                                    "0": "17",
                                    "1": "0.20",
                                    "2": "25",
                                    "3": "NULL",
                                    "4": "4"
                                },
                                {
                                    "0": "18",
                                    "1": "0.05",
                                    "2": "40",
                                    "3": "31",
                                    "4": "1"
                                },
                                {
                                    "0": "18",
                                    "1": "0.07",
                                    "2": "39",
                                    "3": "27",
                                    "4": "2"
                                },
                                {
                                    "0": "18",
                                    "1": "0.10",
                                    "2": "26",
                                    "3": "29",
                                    "4": "3"
                                },
                                {
                                    "0": "18",
                                    "1": "0.20",
                                    "2": "29",
                                    "3": "NULL",
                                    "4": "4"
                                },
                                {
                                    "0": "19",
                                    "1": "0.05",
                                    "2": "21",
                                    "3": "29",
                                    "4": "1"
                                },
                                {
                                    "0": "19",
                                    "1": "0.07",
                                    "2": "34",
                                    "3": "27",
                                    "4": "2"
                                },
                                {
                                    "0": "19",
                                    "1": "0.10",
                                    "2": "25",
                                    "3": "29",
                                    "4": "3"
                                },
                                {
                                    "0": "19",
                                    "1": "0.20",
                                    "2": "29",
                                    "3": "NULL",
                                    "4": "4"
                                },
                                {
                                    "0": "20",
                                    "1": "0.05",
                                    "2": "32",
                                    "3": "31",
                                    "4": "1"
                                },
                                {
                                    "0": "20",
                                    "1": "0.07",
                                    "2": "25",
                                    "3": "34",
                                    "4": "2"
                                },
                                {
                                    "0": "20",
                                    "1": "0.10",
                                    "2": "28",
                                    "3": "40",
                                    "4": "3"
                                },
                                {
                                    "0": "20",
                                    "1": "0.20",
                                    "2": "40",
                                    "3": "NULL",
                                    "4": "4"
                                },
                                {
                                    "0": "21",
                                    "1": "0.05",
                                    "2": "37",
                                    "3": "34",
                                    "4": "1"
                                },
                                {
                                    "0": "21",
                                    "1": "0.07",
                                    "2": "49",
                                    "3": "26",
                                    "4": "2"
                                },
                                {
                                    "0": "21",
                                    "1": "0.10",
                                    "2": "31",
                                    "3": "22",
                                    "4": "3"
                                },
                                {
                                    "0": "21",
                                    "1": "0.20",
                                    "2": "22",
                                    "3": "NULL",
                                    "4": "4"
                                },
                                {
                                    "0": "22",
                                    "1": "0.05",
                                    "2": "30",
                                    "3": "38",
                                    "4": "1"
                                },
                                {
                                    "0": "22",
                                    "1": "0.07",
                                    "2": "31",
                                    "3": "42",
                                    "4": "2"
                                },
                                {
                                    "0": "22",
                                    "1": "0.10",
                                    "2": "41",
                                    "3": "43",
                                    "4": "3"
                                },
                                {
                                    "0": "22",
                                    "1": "0.20",
                                    "2": "43",
                                    "3": "NULL",
                                    "4": "4"
                                },
                                {
                                    "0": "23",
                                    "1": "0.05",
                                    "2": "36",
                                    "3": "39",
                                    "4": "1"
                                }
                            ]
                        },
                        "text/html": [
                            "<table>",
                            "<tr><th>product_id</th><th>discount</th><th>total_quantity</th><th>Avg_Last_3_Discount</th><th>DENSE_RANK</th></tr>",
                            "<tr><td>2</td><td>0.05</td><td>26</td><td>30</td><td>1</td></tr>",
                            "<tr><td>2</td><td>0.07</td><td>30</td><td>31</td><td>2</td></tr>",
                            "<tr><td>2</td><td>0.10</td><td>30</td><td>32</td><td>3</td></tr>",
                            "<tr><td>2</td><td>0.20</td><td>32</td><td>NULL</td><td>4</td></tr>",
                            "<tr><td>3</td><td>0.05</td><td>37</td><td>29</td><td>1</td></tr>",
                            "<tr><td>3</td><td>0.07</td><td>28</td><td>30</td><td>2</td></tr>",
                            "<tr><td>3</td><td>0.10</td><td>23</td><td>38</td><td>3</td></tr>",
                            "<tr><td>3</td><td>0.20</td><td>38</td><td>NULL</td><td>4</td></tr>",
                            "<tr><td>4</td><td>0.05</td><td>35</td><td>36</td><td>1</td></tr>",
                            "<tr><td>4</td><td>0.07</td><td>37</td><td>35</td><td>2</td></tr>",
                            "<tr><td>4</td><td>0.10</td><td>26</td><td>45</td><td>3</td></tr>",
                            "<tr><td>4</td><td>0.20</td><td>45</td><td>NULL</td><td>4</td></tr>",
                            "<tr><td>5</td><td>0.05</td><td>34</td><td>31</td><td>1</td></tr>",
                            "<tr><td>5</td><td>0.07</td><td>21</td><td>37</td><td>2</td></tr>",
                            "<tr><td>5</td><td>0.10</td><td>34</td><td>40</td><td>3</td></tr>",
                            "<tr><td>5</td><td>0.20</td><td>40</td><td>NULL</td><td>4</td></tr>",
                            "<tr><td>6</td><td>0.05</td><td>46</td><td>40</td><td>1</td></tr>",
                            "<tr><td>6</td><td>0.07</td><td>41</td><td>40</td><td>2</td></tr>",
                            "<tr><td>6</td><td>0.10</td><td>39</td><td>41</td><td>3</td></tr>",
                            "<tr><td>6</td><td>0.20</td><td>41</td><td>NULL</td><td>4</td></tr>",
                            "<tr><td>7</td><td>0.05</td><td>44</td><td>36</td><td>1</td></tr>",
                            "<tr><td>7</td><td>0.07</td><td>43</td><td>33</td><td>2</td></tr>",
                            "<tr><td>7</td><td>0.10</td><td>35</td><td>32</td><td>3</td></tr>",
                            "<tr><td>7</td><td>0.20</td><td>32</td><td>NULL</td><td>4</td></tr>",
                            "<tr><td>8</td><td>0.05</td><td>41</td><td>28</td><td>1</td></tr>",
                            "<tr><td>8</td><td>0.07</td><td>28</td><td>28</td><td>2</td></tr>",
                            "<tr><td>8</td><td>0.10</td><td>32</td><td>24</td><td>3</td></tr>",
                            "<tr><td>8</td><td>0.20</td><td>24</td><td>NULL</td><td>4</td></tr>",
                            "<tr><td>9</td><td>0.05</td><td>37</td><td>36</td><td>1</td></tr>",
                            "<tr><td>9</td><td>0.07</td><td>30</td><td>39</td><td>2</td></tr>",
                            "<tr><td>9</td><td>0.10</td><td>43</td><td>35</td><td>3</td></tr>",
                            "<tr><td>9</td><td>0.20</td><td>35</td><td>NULL</td><td>4</td></tr>",
                            "<tr><td>10</td><td>0.05</td><td>40</td><td>35</td><td>1</td></tr>",
                            "<tr><td>10</td><td>0.07</td><td>36</td><td>35</td><td>2</td></tr>",
                            "<tr><td>10</td><td>0.10</td><td>31</td><td>40</td><td>3</td></tr>",
                            "<tr><td>10</td><td>0.20</td><td>40</td><td>NULL</td><td>4</td></tr>",
                            "<tr><td>11</td><td>0.05</td><td>27</td><td>41</td><td>1</td></tr>",
                            "<tr><td>11</td><td>0.07</td><td>45</td><td>39</td><td>2</td></tr>",
                            "<tr><td>11</td><td>0.10</td><td>42</td><td>37</td><td>3</td></tr>",
                            "<tr><td>11</td><td>0.20</td><td>37</td><td>NULL</td><td>4</td></tr>",
                            "<tr><td>12</td><td>0.05</td><td>40</td><td>37</td><td>1</td></tr>",
                            "<tr><td>12</td><td>0.07</td><td>39</td><td>37</td><td>2</td></tr>",
                            "<tr><td>12</td><td>0.10</td><td>43</td><td>31</td><td>3</td></tr>",
                            "<tr><td>12</td><td>0.20</td><td>31</td><td>NULL</td><td>4</td></tr>",
                            "<tr><td>13</td><td>0.05</td><td>37</td><td>40</td><td>1</td></tr>",
                            "<tr><td>13</td><td>0.07</td><td>39</td><td>40</td><td>2</td></tr>",
                            "<tr><td>13</td><td>0.10</td><td>45</td><td>36</td><td>3</td></tr>",
                            "<tr><td>13</td><td>0.20</td><td>36</td><td>NULL</td><td>4</td></tr>",
                            "<tr><td>14</td><td>0.05</td><td>21</td><td>34</td><td>1</td></tr>",
                            "<tr><td>14</td><td>0.07</td><td>29</td><td>37</td><td>2</td></tr>",
                            "<tr><td>14</td><td>0.10</td><td>42</td><td>32</td><td>3</td></tr>",
                            "<tr><td>14</td><td>0.20</td><td>32</td><td>NULL</td><td>4</td></tr>",
                            "<tr><td>15</td><td>0.05</td><td>36</td><td>33</td><td>1</td></tr>",
                            "<tr><td>15</td><td>0.07</td><td>32</td><td>34</td><td>2</td></tr>",
                            "<tr><td>15</td><td>0.10</td><td>36</td><td>33</td><td>3</td></tr>",
                            "<tr><td>15</td><td>0.20</td><td>33</td><td>NULL</td><td>4</td></tr>",
                            "<tr><td>16</td><td>0.05</td><td>42</td><td>38</td><td>1</td></tr>",
                            "<tr><td>16</td><td>0.07</td><td>27</td><td>43</td><td>2</td></tr>",
                            "<tr><td>16</td><td>0.10</td><td>33</td><td>54</td><td>3</td></tr>",
                            "<tr><td>16</td><td>0.20</td><td>54</td><td>NULL</td><td>4</td></tr>",
                            "<tr><td>17</td><td>0.05</td><td>35</td><td>32</td><td>1</td></tr>",
                            "<tr><td>17</td><td>0.07</td><td>39</td><td>29</td><td>2</td></tr>",
                            "<tr><td>17</td><td>0.10</td><td>34</td><td>25</td><td>3</td></tr>",
                            "<tr><td>17</td><td>0.20</td><td>25</td><td>NULL</td><td>4</td></tr>",
                            "<tr><td>18</td><td>0.05</td><td>40</td><td>31</td><td>1</td></tr>",
                            "<tr><td>18</td><td>0.07</td><td>39</td><td>27</td><td>2</td></tr>",
                            "<tr><td>18</td><td>0.10</td><td>26</td><td>29</td><td>3</td></tr>",
                            "<tr><td>18</td><td>0.20</td><td>29</td><td>NULL</td><td>4</td></tr>",
                            "<tr><td>19</td><td>0.05</td><td>21</td><td>29</td><td>1</td></tr>",
                            "<tr><td>19</td><td>0.07</td><td>34</td><td>27</td><td>2</td></tr>",
                            "<tr><td>19</td><td>0.10</td><td>25</td><td>29</td><td>3</td></tr>",
                            "<tr><td>19</td><td>0.20</td><td>29</td><td>NULL</td><td>4</td></tr>",
                            "<tr><td>20</td><td>0.05</td><td>32</td><td>31</td><td>1</td></tr>",
                            "<tr><td>20</td><td>0.07</td><td>25</td><td>34</td><td>2</td></tr>",
                            "<tr><td>20</td><td>0.10</td><td>28</td><td>40</td><td>3</td></tr>",
                            "<tr><td>20</td><td>0.20</td><td>40</td><td>NULL</td><td>4</td></tr>",
                            "<tr><td>21</td><td>0.05</td><td>37</td><td>34</td><td>1</td></tr>",
                            "<tr><td>21</td><td>0.07</td><td>49</td><td>26</td><td>2</td></tr>",
                            "<tr><td>21</td><td>0.10</td><td>31</td><td>22</td><td>3</td></tr>",
                            "<tr><td>21</td><td>0.20</td><td>22</td><td>NULL</td><td>4</td></tr>",
                            "<tr><td>22</td><td>0.05</td><td>30</td><td>38</td><td>1</td></tr>",
                            "<tr><td>22</td><td>0.07</td><td>31</td><td>42</td><td>2</td></tr>",
                            "<tr><td>22</td><td>0.10</td><td>41</td><td>43</td><td>3</td></tr>",
                            "<tr><td>22</td><td>0.20</td><td>43</td><td>NULL</td><td>4</td></tr>",
                            "<tr><td>23</td><td>0.05</td><td>36</td><td>39</td><td>1</td></tr>",
                            "</table>"
                        ]
                    }
                }
            ],
            "execution_count": 5
        },
        {
            "cell_type": "code",
            "source": [
                "drop table if exists #temp_tbl_3;\r\n",
                "\r\n",
                "--Create temp table 3\r\n",
                "SELECT  product_id, discount, total_quantity\r\n",
                "        ,CASE \r\n",
                "                WHEN (Avg_Last_3_Discount - total_quantity) > 0 THEN  'Positive'\r\n",
                "                WHEN (Avg_Last_3_Discount - total_quantity) < 0 THEN  'Negative'\r\n",
                "                ELSE 'Neutral'\r\n",
                "        END [Discount_Effect]\r\n",
                "INTO    #temp_tbl_3\r\n",
                "FROM    #temp_tbl_2\r\n",
                "WHERE   [DENSE_RANK]=1\r\n",
                "\r\n",
                "SELECT  *\r\n",
                "FROM    #temp_tbl_3\r\n",
                "--examine result: Change Values ('Positive', 'Negative', 'Neutral')\r\n",
                "GO"
            ],
            "metadata": {
                "language": "sql",
                "azdata_cell_guid": "19a07013-6c92-43c2-b980-fffc9f5b90b0"
            },
            "outputs": [
                {
                    "output_type": "display_data",
                    "data": {
                        "text/html": "(307 rows affected)"
                    },
                    "metadata": {}
                },
                {
                    "output_type": "display_data",
                    "data": {
                        "text/html": "(307 rows affected)"
                    },
                    "metadata": {}
                },
                {
                    "output_type": "display_data",
                    "data": {
                        "text/html": "Total execution time: 00:00:00.014"
                    },
                    "metadata": {}
                },
                {
                    "output_type": "execute_result",
                    "metadata": {},
                    "execution_count": 6,
                    "data": {
                        "application/vnd.dataresource+json": {
                            "schema": {
                                "fields": [
                                    {
                                        "name": "product_id"
                                    },
                                    {
                                        "name": "discount"
                                    },
                                    {
                                        "name": "total_quantity"
                                    },
                                    {
                                        "name": "Discount_Effect"
                                    }
                                ]
                            },
                            "data": [
                                {
                                    "0": "2",
                                    "1": "0.05",
                                    "2": "26",
                                    "3": "Positive"
                                },
                                {
                                    "0": "3",
                                    "1": "0.05",
                                    "2": "37",
                                    "3": "Negative"
                                },
                                {
                                    "0": "4",
                                    "1": "0.05",
                                    "2": "35",
                                    "3": "Positive"
                                },
                                {
                                    "0": "5",
                                    "1": "0.05",
                                    "2": "34",
                                    "3": "Negative"
                                },
                                {
                                    "0": "6",
                                    "1": "0.05",
                                    "2": "46",
                                    "3": "Negative"
                                },
                                {
                                    "0": "7",
                                    "1": "0.05",
                                    "2": "44",
                                    "3": "Negative"
                                },
                                {
                                    "0": "8",
                                    "1": "0.05",
                                    "2": "41",
                                    "3": "Negative"
                                },
                                {
                                    "0": "9",
                                    "1": "0.05",
                                    "2": "37",
                                    "3": "Negative"
                                },
                                {
                                    "0": "10",
                                    "1": "0.05",
                                    "2": "40",
                                    "3": "Negative"
                                },
                                {
                                    "0": "11",
                                    "1": "0.05",
                                    "2": "27",
                                    "3": "Positive"
                                },
                                {
                                    "0": "12",
                                    "1": "0.05",
                                    "2": "40",
                                    "3": "Negative"
                                },
                                {
                                    "0": "13",
                                    "1": "0.05",
                                    "2": "37",
                                    "3": "Positive"
                                },
                                {
                                    "0": "14",
                                    "1": "0.05",
                                    "2": "21",
                                    "3": "Positive"
                                },
                                {
                                    "0": "15",
                                    "1": "0.05",
                                    "2": "36",
                                    "3": "Negative"
                                },
                                {
                                    "0": "16",
                                    "1": "0.05",
                                    "2": "42",
                                    "3": "Negative"
                                },
                                {
                                    "0": "17",
                                    "1": "0.05",
                                    "2": "35",
                                    "3": "Negative"
                                },
                                {
                                    "0": "18",
                                    "1": "0.05",
                                    "2": "40",
                                    "3": "Negative"
                                },
                                {
                                    "0": "19",
                                    "1": "0.05",
                                    "2": "21",
                                    "3": "Positive"
                                },
                                {
                                    "0": "20",
                                    "1": "0.05",
                                    "2": "32",
                                    "3": "Negative"
                                },
                                {
                                    "0": "21",
                                    "1": "0.05",
                                    "2": "37",
                                    "3": "Negative"
                                },
                                {
                                    "0": "22",
                                    "1": "0.05",
                                    "2": "30",
                                    "3": "Positive"
                                },
                                {
                                    "0": "23",
                                    "1": "0.05",
                                    "2": "36",
                                    "3": "Positive"
                                },
                                {
                                    "0": "24",
                                    "1": "0.05",
                                    "2": "32",
                                    "3": "Positive"
                                },
                                {
                                    "0": "25",
                                    "1": "0.05",
                                    "2": "44",
                                    "3": "Negative"
                                },
                                {
                                    "0": "26",
                                    "1": "0.05",
                                    "2": "47",
                                    "3": "Negative"
                                },
                                {
                                    "0": "27",
                                    "1": "0.05",
                                    "2": "7",
                                    "3": "Positive"
                                },
                                {
                                    "0": "28",
                                    "1": "0.05",
                                    "2": "11",
                                    "3": "Negative"
                                },
                                {
                                    "0": "29",
                                    "1": "0.05",
                                    "2": "10",
                                    "3": "Negative"
                                },
                                {
                                    "0": "30",
                                    "1": "0.05",
                                    "2": "15",
                                    "3": "Negative"
                                },
                                {
                                    "0": "31",
                                    "1": "0.05",
                                    "2": "3",
                                    "3": "Positive"
                                },
                                {
                                    "0": "32",
                                    "1": "0.05",
                                    "2": "6",
                                    "3": "Positive"
                                },
                                {
                                    "0": "33",
                                    "1": "0.05",
                                    "2": "3",
                                    "3": "Positive"
                                },
                                {
                                    "0": "34",
                                    "1": "0.05",
                                    "2": "8",
                                    "3": "Negative"
                                },
                                {
                                    "0": "35",
                                    "1": "0.05",
                                    "2": "7",
                                    "3": "Negative"
                                },
                                {
                                    "0": "36",
                                    "1": "0.05",
                                    "2": "7",
                                    "3": "Positive"
                                },
                                {
                                    "0": "37",
                                    "1": "0.05",
                                    "2": "1",
                                    "3": "Positive"
                                },
                                {
                                    "0": "38",
                                    "1": "0.05",
                                    "2": "5",
                                    "3": "Positive"
                                },
                                {
                                    "0": "39",
                                    "1": "0.05",
                                    "2": "8",
                                    "3": "Negative"
                                },
                                {
                                    "0": "40",
                                    "1": "0.05",
                                    "2": "7",
                                    "3": "Positive"
                                },
                                {
                                    "0": "41",
                                    "1": "0.05",
                                    "2": "17",
                                    "3": "Negative"
                                },
                                {
                                    "0": "42",
                                    "1": "0.05",
                                    "2": "7",
                                    "3": "Positive"
                                },
                                {
                                    "0": "43",
                                    "1": "0.05",
                                    "2": "7",
                                    "3": "Positive"
                                },
                                {
                                    "0": "44",
                                    "1": "0.05",
                                    "2": "5",
                                    "3": "Neutral"
                                },
                                {
                                    "0": "45",
                                    "1": "0.05",
                                    "2": "12",
                                    "3": "Positive"
                                },
                                {
                                    "0": "46",
                                    "1": "0.05",
                                    "2": "6",
                                    "3": "Positive"
                                },
                                {
                                    "0": "47",
                                    "1": "0.05",
                                    "2": "9",
                                    "3": "Negative"
                                },
                                {
                                    "0": "48",
                                    "1": "0.05",
                                    "2": "16",
                                    "3": "Negative"
                                },
                                {
                                    "0": "49",
                                    "1": "0.05",
                                    "2": "8",
                                    "3": "Positive"
                                },
                                {
                                    "0": "50",
                                    "1": "0.05",
                                    "2": "9",
                                    "3": "Negative"
                                },
                                {
                                    "0": "51",
                                    "1": "0.05",
                                    "2": "9",
                                    "3": "Positive"
                                },
                                {
                                    "0": "52",
                                    "1": "0.05",
                                    "2": "12",
                                    "3": "Negative"
                                },
                                {
                                    "0": "53",
                                    "1": "0.05",
                                    "2": "6",
                                    "3": "Negative"
                                },
                                {
                                    "0": "54",
                                    "1": "0.05",
                                    "2": "9",
                                    "3": "Negative"
                                },
                                {
                                    "0": "55",
                                    "1": "0.05",
                                    "2": "10",
                                    "3": "Negative"
                                },
                                {
                                    "0": "56",
                                    "1": "0.05",
                                    "2": "11",
                                    "3": "Negative"
                                },
                                {
                                    "0": "57",
                                    "1": "0.05",
                                    "2": "7",
                                    "3": "Negative"
                                },
                                {
                                    "0": "58",
                                    "1": "0.05",
                                    "2": "8",
                                    "3": "Positive"
                                },
                                {
                                    "0": "59",
                                    "1": "0.05",
                                    "2": "6",
                                    "3": "Neutral"
                                },
                                {
                                    "0": "60",
                                    "1": "0.05",
                                    "2": "9",
                                    "3": "Negative"
                                },
                                {
                                    "0": "61",
                                    "1": "0.05",
                                    "2": "15",
                                    "3": "Negative"
                                },
                                {
                                    "0": "62",
                                    "1": "0.05",
                                    "2": "5",
                                    "3": "Positive"
                                },
                                {
                                    "0": "63",
                                    "1": "0.05",
                                    "2": "6",
                                    "3": "Positive"
                                },
                                {
                                    "0": "64",
                                    "1": "0.05",
                                    "2": "3",
                                    "3": "Positive"
                                },
                                {
                                    "0": "65",
                                    "1": "0.05",
                                    "2": "13",
                                    "3": "Positive"
                                },
                                {
                                    "0": "66",
                                    "1": "0.05",
                                    "2": "8",
                                    "3": "Positive"
                                },
                                {
                                    "0": "67",
                                    "1": "0.05",
                                    "2": "6",
                                    "3": "Neutral"
                                },
                                {
                                    "0": "68",
                                    "1": "0.05",
                                    "2": "7",
                                    "3": "Negative"
                                },
                                {
                                    "0": "69",
                                    "1": "0.05",
                                    "2": "10",
                                    "3": "Negative"
                                },
                                {
                                    "0": "70",
                                    "1": "0.05",
                                    "2": "10",
                                    "3": "Negative"
                                },
                                {
                                    "0": "71",
                                    "1": "0.05",
                                    "2": "17",
                                    "3": "Negative"
                                },
                                {
                                    "0": "72",
                                    "1": "0.05",
                                    "2": "9",
                                    "3": "Negative"
                                },
                                {
                                    "0": "73",
                                    "1": "0.05",
                                    "2": "9",
                                    "3": "Negative"
                                },
                                {
                                    "0": "74",
                                    "1": "0.05",
                                    "2": "8",
                                    "3": "Negative"
                                },
                                {
                                    "0": "75",
                                    "1": "0.05",
                                    "2": "12",
                                    "3": "Negative"
                                },
                                {
                                    "0": "76",
                                    "1": "0.05",
                                    "2": "3",
                                    "3": "Positive"
                                },
                                {
                                    "0": "77",
                                    "1": "0.05",
                                    "2": "12",
                                    "3": "Negative"
                                },
                                {
                                    "0": "78",
                                    "1": "0.05",
                                    "2": "14",
                                    "3": "Negative"
                                },
                                {
                                    "0": "79",
                                    "1": "0.07",
                                    "2": "6",
                                    "3": "Positive"
                                },
                                {
                                    "0": "80",
                                    "1": "0.05",
                                    "2": "5",
                                    "3": "Positive"
                                },
                                {
                                    "0": "81",
                                    "1": "0.05",
                                    "2": "11",
                                    "3": "Negative"
                                },
                                {
                                    "0": "82",
                                    "1": "0.05",
                                    "2": "5",
                                    "3": "Positive"
                                },
                                {
                                    "0": "83",
                                    "1": "0.05",
                                    "2": "11",
                                    "3": "Negative"
                                },
                                {
                                    "0": "84",
                                    "1": "0.05",
                                    "2": "7",
                                    "3": "Negative"
                                },
                                {
                                    "0": "85",
                                    "1": "0.05",
                                    "2": "7",
                                    "3": "Positive"
                                },
                                {
                                    "0": "86",
                                    "1": "0.05",
                                    "2": "10",
                                    "3": "Negative"
                                },
                                {
                                    "0": "87",
                                    "1": "0.07",
                                    "2": "9",
                                    "3": "Positive"
                                },
                                {
                                    "0": "88",
                                    "1": "0.05",
                                    "2": "9",
                                    "3": "Negative"
                                },
                                {
                                    "0": "89",
                                    "1": "0.05",
                                    "2": "6",
                                    "3": "Positive"
                                },
                                {
                                    "0": "90",
                                    "1": "0.05",
                                    "2": "1",
                                    "3": "Positive"
                                },
                                {
                                    "0": "91",
                                    "1": "0.05",
                                    "2": "12",
                                    "3": "Negative"
                                },
                                {
                                    "0": "92",
                                    "1": "0.05",
                                    "2": "3",
                                    "3": "Positive"
                                },
                                {
                                    "0": "93",
                                    "1": "0.05",
                                    "2": "10",
                                    "3": "Negative"
                                },
                                {
                                    "0": "94",
                                    "1": "0.05",
                                    "2": "9",
                                    "3": "Negative"
                                },
                                {
                                    "0": "95",
                                    "1": "0.05",
                                    "2": "19",
                                    "3": "Negative"
                                },
                                {
                                    "0": "96",
                                    "1": "0.05",
                                    "2": "4",
                                    "3": "Positive"
                                },
                                {
                                    "0": "97",
                                    "1": "0.05",
                                    "2": "6",
                                    "3": "Positive"
                                },
                                {
                                    "0": "98",
                                    "1": "0.05",
                                    "2": "5",
                                    "3": "Neutral"
                                },
                                {
                                    "0": "99",
                                    "1": "0.05",
                                    "2": "10",
                                    "3": "Negative"
                                },
                                {
                                    "0": "100",
                                    "1": "0.05",
                                    "2": "13",
                                    "3": "Negative"
                                },
                                {
                                    "0": "101",
                                    "1": "0.05",
                                    "2": "8",
                                    "3": "Positive"
                                },
                                {
                                    "0": "102",
                                    "1": "0.05",
                                    "2": "13",
                                    "3": "Negative"
                                },
                                {
                                    "0": "103",
                                    "1": "0.05",
                                    "2": "16",
                                    "3": "Negative"
                                },
                                {
                                    "0": "104",
                                    "1": "0.05",
                                    "2": "7",
                                    "3": "Neutral"
                                },
                                {
                                    "0": "105",
                                    "1": "0.05",
                                    "2": "6",
                                    "3": "Positive"
                                },
                                {
                                    "0": "106",
                                    "1": "0.05",
                                    "2": "15",
                                    "3": "Negative"
                                },
                                {
                                    "0": "107",
                                    "1": "0.05",
                                    "2": "13",
                                    "3": "Negative"
                                },
                                {
                                    "0": "108",
                                    "1": "0.05",
                                    "2": "8",
                                    "3": "Neutral"
                                },
                                {
                                    "0": "109",
                                    "1": "0.05",
                                    "2": "6",
                                    "3": "Positive"
                                },
                                {
                                    "0": "110",
                                    "1": "0.05",
                                    "2": "6",
                                    "3": "Neutral"
                                },
                                {
                                    "0": "111",
                                    "1": "0.05",
                                    "2": "6",
                                    "3": "Neutral"
                                },
                                {
                                    "0": "112",
                                    "1": "0.05",
                                    "2": "2",
                                    "3": "Negative"
                                },
                                {
                                    "0": "113",
                                    "1": "0.05",
                                    "2": "1",
                                    "3": "Positive"
                                },
                                {
                                    "0": "114",
                                    "1": "0.07",
                                    "2": "1",
                                    "3": "Positive"
                                },
                                {
                                    "0": "115",
                                    "1": "0.05",
                                    "2": "1",
                                    "3": "Neutral"
                                },
                                {
                                    "0": "116",
                                    "1": "0.07",
                                    "2": "2",
                                    "3": "Negative"
                                },
                                {
                                    "0": "117",
                                    "1": "0.05",
                                    "2": "2",
                                    "3": "Neutral"
                                },
                                {
                                    "0": "118",
                                    "1": "0.10",
                                    "2": "1",
                                    "3": "Positive"
                                },
                                {
                                    "0": "119",
                                    "1": "0.05",
                                    "2": "3",
                                    "3": "Negative"
                                },
                                {
                                    "0": "120",
                                    "1": "0.20",
                                    "2": "4",
                                    "3": "Neutral"
                                },
                                {
                                    "0": "122",
                                    "1": "0.05",
                                    "2": "2",
                                    "3": "Negative"
                                },
                                {
                                    "0": "123",
                                    "1": "0.05",
                                    "2": "1",
                                    "3": "Positive"
                                },
                                {
                                    "0": "124",
                                    "1": "0.07",
                                    "2": "5",
                                    "3": "Negative"
                                },
                                {
                                    "0": "126",
                                    "1": "0.05",
                                    "2": "2",
                                    "3": "Negative"
                                },
                                {
                                    "0": "127",
                                    "1": "0.07",
                                    "2": "2",
                                    "3": "Positive"
                                },
                                {
                                    "0": "128",
                                    "1": "0.05",
                                    "2": "2",
                                    "3": "Positive"
                                },
                                {
                                    "0": "129",
                                    "1": "0.07",
                                    "2": "1",
                                    "3": "Positive"
                                },
                                {
                                    "0": "130",
                                    "1": "0.05",
                                    "2": "1",
                                    "3": "Neutral"
                                },
                                {
                                    "0": "131",
                                    "1": "0.07",
                                    "2": "2",
                                    "3": "Neutral"
                                },
                                {
                                    "0": "132",
                                    "1": "0.10",
                                    "2": "3",
                                    "3": "Neutral"
                                },
                                {
                                    "0": "133",
                                    "1": "0.07",
                                    "2": "2",
                                    "3": "Negative"
                                },
                                {
                                    "0": "134",
                                    "1": "0.05",
                                    "2": "2",
                                    "3": "Negative"
                                },
                                {
                                    "0": "135",
                                    "1": "0.05",
                                    "2": "1",
                                    "3": "Neutral"
                                },
                                {
                                    "0": "136",
                                    "1": "0.07",
                                    "2": "1",
                                    "3": "Positive"
                                },
                                {
                                    "0": "137",
                                    "1": "0.05",
                                    "2": "1",
                                    "3": "Positive"
                                },
                                {
                                    "0": "138",
                                    "1": "0.05",
                                    "2": "6",
                                    "3": "Neutral"
                                },
                                {
                                    "0": "139",
                                    "1": "0.05",
                                    "2": "2",
                                    "3": "Positive"
                                },
                                {
                                    "0": "140",
                                    "1": "0.20",
                                    "2": "3",
                                    "3": "Neutral"
                                },
                                {
                                    "0": "141",
                                    "1": "0.05",
                                    "2": "2",
                                    "3": "Neutral"
                                },
                                {
                                    "0": "142",
                                    "1": "0.05",
                                    "2": "2",
                                    "3": "Positive"
                                },
                                {
                                    "0": "143",
                                    "1": "0.07",
                                    "2": "1",
                                    "3": "Neutral"
                                },
                                {
                                    "0": "144",
                                    "1": "0.07",
                                    "2": "1",
                                    "3": "Positive"
                                },
                                {
                                    "0": "145",
                                    "1": "0.07",
                                    "2": "3",
                                    "3": "Negative"
                                },
                                {
                                    "0": "146",
                                    "1": "0.10",
                                    "2": "1",
                                    "3": "Neutral"
                                },
                                {
                                    "0": "147",
                                    "1": "0.05",
                                    "2": "2",
                                    "3": "Neutral"
                                },
                                {
                                    "0": "148",
                                    "1": "0.05",
                                    "2": "1",
                                    "3": "Neutral"
                                },
                                {
                                    "0": "149",
                                    "1": "0.05",
                                    "2": "3",
                                    "3": "Negative"
                                },
                                {
                                    "0": "150",
                                    "1": "0.05",
                                    "2": "1",
                                    "3": "Neutral"
                                },
                                {
                                    "0": "151",
                                    "1": "0.05",
                                    "2": "2",
                                    "3": "Neutral"
                                },
                                {
                                    "0": "152",
                                    "1": "0.10",
                                    "2": "1",
                                    "3": "Positive"
                                },
                                {
                                    "0": "153",
                                    "1": "0.05",
                                    "2": "3",
                                    "3": "Negative"
                                },
                                {
                                    "0": "155",
                                    "1": "0.07",
                                    "2": "1",
                                    "3": "Positive"
                                },
                                {
                                    "0": "156",
                                    "1": "0.10",
                                    "2": "3",
                                    "3": "Neutral"
                                },
                                {
                                    "0": "157",
                                    "1": "0.05",
                                    "2": "1",
                                    "3": "Neutral"
                                },
                                {
                                    "0": "158",
                                    "1": "0.07",
                                    "2": "2",
                                    "3": "Positive"
                                },
                                {
                                    "0": "159",
                                    "1": "0.05",
                                    "2": "3",
                                    "3": "Positive"
                                },
                                {
                                    "0": "160",
                                    "1": "0.07",
                                    "2": "4",
                                    "3": "Negative"
                                },
                                {
                                    "0": "161",
                                    "1": "0.05",
                                    "2": "2",
                                    "3": "Negative"
                                },
                                {
                                    "0": "162",
                                    "1": "0.10",
                                    "2": "4",
                                    "3": "Neutral"
                                },
                                {
                                    "0": "163",
                                    "1": "0.07",
                                    "2": "4",
                                    "3": "Neutral"
                                },
                                {
                                    "0": "164",
                                    "1": "0.07",
                                    "2": "2",
                                    "3": "Neutral"
                                },
                                {
                                    "0": "165",
                                    "1": "0.05",
                                    "2": "2",
                                    "3": "Neutral"
                                },
                                {
                                    "0": "166",
                                    "1": "0.05",
                                    "2": "1",
                                    "3": "Neutral"
                                },
                                {
                                    "0": "167",
                                    "1": "0.05",
                                    "2": "1",
                                    "3": "Neutral"
                                },
                                {
                                    "0": "168",
                                    "1": "0.05",
                                    "2": "1",
                                    "3": "Neutral"
                                },
                                {
                                    "0": "169",
                                    "1": "0.07",
                                    "2": "4",
                                    "3": "Neutral"
                                },
                                {
                                    "0": "170",
                                    "1": "0.07",
                                    "2": "1",
                                    "3": "Neutral"
                                },
                                {
                                    "0": "171",
                                    "1": "0.05",
                                    "2": "4",
                                    "3": "Neutral"
                                },
                                {
                                    "0": "172",
                                    "1": "0.05",
                                    "2": "3",
                                    "3": "Negative"
                                },
                                {
                                    "0": "173",
                                    "1": "0.10",
                                    "2": "2",
                                    "3": "Positive"
                                },
                                {
                                    "0": "174",
                                    "1": "0.20",
                                    "2": "1",
                                    "3": "Neutral"
                                },
                                {
                                    "0": "175",
                                    "1": "0.07",
                                    "2": "3",
                                    "3": "Neutral"
                                },
                                {
                                    "0": "176",
                                    "1": "0.07",
                                    "2": "1",
                                    "3": "Neutral"
                                },
                                {
                                    "0": "177",
                                    "1": "0.05",
                                    "2": "2",
                                    "3": "Neutral"
                                },
                                {
                                    "0": "178",
                                    "1": "0.05",
                                    "2": "2",
                                    "3": "Neutral"
                                },
                                {
                                    "0": "179",
                                    "1": "0.05",
                                    "2": "1",
                                    "3": "Positive"
                                },
                                {
                                    "0": "180",
                                    "1": "0.07",
                                    "2": "2",
                                    "3": "Positive"
                                },
                                {
                                    "0": "181",
                                    "1": "0.05",
                                    "2": "2",
                                    "3": "Negative"
                                },
                                {
                                    "0": "182",
                                    "1": "0.05",
                                    "2": "2",
                                    "3": "Negative"
                                },
                                {
                                    "0": "183",
                                    "1": "0.20",
                                    "2": "1",
                                    "3": "Neutral"
                                },
                                {
                                    "0": "184",
                                    "1": "0.05",
                                    "2": "1",
                                    "3": "Positive"
                                },
                                {
                                    "0": "185",
                                    "1": "0.07",
                                    "2": "2",
                                    "3": "Positive"
                                },
                                {
                                    "0": "186",
                                    "1": "0.05",
                                    "2": "1",
                                    "3": "Neutral"
                                },
                                {
                                    "0": "187",
                                    "1": "0.07",
                                    "2": "2",
                                    "3": "Negative"
                                },
                                {
                                    "0": "188",
                                    "1": "0.07",
                                    "2": "3",
                                    "3": "Positive"
                                },
                                {
                                    "0": "189",
                                    "1": "0.20",
                                    "2": "2",
                                    "3": "Neutral"
                                },
                                {
                                    "0": "190",
                                    "1": "0.07",
                                    "2": "4",
                                    "3": "Negative"
                                },
                                {
                                    "0": "191",
                                    "1": "0.07",
                                    "2": "1",
                                    "3": "Positive"
                                },
                                {
                                    "0": "192",
                                    "1": "0.05",
                                    "2": "1",
                                    "3": "Neutral"
                                },
                                {
                                    "0": "193",
                                    "1": "0.05",
                                    "2": "2",
                                    "3": "Negative"
                                },
                                {
                                    "0": "194",
                                    "1": "0.10",
                                    "2": "5",
                                    "3": "Negative"
                                },
                                {
                                    "0": "196",
                                    "1": "0.05",
                                    "2": "1",
                                    "3": "Positive"
                                },
                                {
                                    "0": "197",
                                    "1": "0.10",
                                    "2": "1",
                                    "3": "Positive"
                                },
                                {
                                    "0": "198",
                                    "1": "0.05",
                                    "2": "1",
                                    "3": "Positive"
                                },
                                {
                                    "0": "199",
                                    "1": "0.10",
                                    "2": "2",
                                    "3": "Neutral"
                                },
                                {
                                    "0": "200",
                                    "1": "0.07",
                                    "2": "1",
                                    "3": "Neutral"
                                },
                                {
                                    "0": "201",
                                    "1": "0.05",
                                    "2": "1",
                                    "3": "Neutral"
                                },
                                {
                                    "0": "202",
                                    "1": "0.05",
                                    "2": "2",
                                    "3": "Negative"
                                },
                                {
                                    "0": "203",
                                    "1": "0.05",
                                    "2": "6",
                                    "3": "Negative"
                                },
                                {
                                    "0": "204",
                                    "1": "0.07",
                                    "2": "6",
                                    "3": "Negative"
                                },
                                {
                                    "0": "205",
                                    "1": "0.05",
                                    "2": "4",
                                    "3": "Negative"
                                },
                                {
                                    "0": "206",
                                    "1": "0.07",
                                    "2": "1",
                                    "3": "Neutral"
                                },
                                {
                                    "0": "207",
                                    "1": "0.07",
                                    "2": "2",
                                    "3": "Positive"
                                },
                                {
                                    "0": "208",
                                    "1": "0.07",
                                    "2": "1",
                                    "3": "Positive"
                                },
                                {
                                    "0": "209",
                                    "1": "0.07",
                                    "2": "2",
                                    "3": "Positive"
                                },
                                {
                                    "0": "210",
                                    "1": "0.05",
                                    "2": "1",
                                    "3": "Positive"
                                },
                                {
                                    "0": "211",
                                    "1": "0.05",
                                    "2": "2",
                                    "3": "Neutral"
                                },
                                {
                                    "0": "212",
                                    "1": "0.07",
                                    "2": "1",
                                    "3": "Neutral"
                                },
                                {
                                    "0": "213",
                                    "1": "0.05",
                                    "2": "2",
                                    "3": "Negative"
                                },
                                {
                                    "0": "214",
                                    "1": "0.07",
                                    "2": "2",
                                    "3": "Positive"
                                },
                                {
                                    "0": "215",
                                    "1": "0.07",
                                    "2": "5",
                                    "3": "Negative"
                                },
                                {
                                    "0": "216",
                                    "1": "0.05",
                                    "2": "2",
                                    "3": "Neutral"
                                },
                                {
                                    "0": "217",
                                    "1": "0.07",
                                    "2": "1",
                                    "3": "Neutral"
                                },
                                {
                                    "0": "218",
                                    "1": "0.05",
                                    "2": "1",
                                    "3": "Neutral"
                                },
                                {
                                    "0": "219",
                                    "1": "0.07",
                                    "2": "1",
                                    "3": "Positive"
                                },
                                {
                                    "0": "220",
                                    "1": "0.07",
                                    "2": "3",
                                    "3": "Neutral"
                                },
                                {
                                    "0": "221",
                                    "1": "0.05",
                                    "2": "1",
                                    "3": "Neutral"
                                },
                                {
                                    "0": "222",
                                    "1": "0.10",
                                    "2": "1",
                                    "3": "Neutral"
                                },
                                {
                                    "0": "223",
                                    "1": "0.05",
                                    "2": "2",
                                    "3": "Neutral"
                                },
                                {
                                    "0": "224",
                                    "1": "0.05",
                                    "2": "4",
                                    "3": "Neutral"
                                },
                                {
                                    "0": "225",
                                    "1": "0.07",
                                    "2": "2",
                                    "3": "Neutral"
                                },
                                {
                                    "0": "226",
                                    "1": "0.05",
                                    "2": "2",
                                    "3": "Negative"
                                },
                                {
                                    "0": "227",
                                    "1": "0.05",
                                    "2": "3",
                                    "3": "Negative"
                                },
                                {
                                    "0": "228",
                                    "1": "0.07",
                                    "2": "1",
                                    "3": "Positive"
                                },
                                {
                                    "0": "229",
                                    "1": "0.07",
                                    "2": "2",
                                    "3": "Positive"
                                },
                                {
                                    "0": "230",
                                    "1": "0.05",
                                    "2": "3",
                                    "3": "Negative"
                                },
                                {
                                    "0": "231",
                                    "1": "0.05",
                                    "2": "2",
                                    "3": "Neutral"
                                },
                                {
                                    "0": "232",
                                    "1": "0.20",
                                    "2": "2",
                                    "3": "Neutral"
                                },
                                {
                                    "0": "233",
                                    "1": "0.05",
                                    "2": "2",
                                    "3": "Negative"
                                },
                                {
                                    "0": "234",
                                    "1": "0.05",
                                    "2": "4",
                                    "3": "Negative"
                                },
                                {
                                    "0": "235",
                                    "1": "0.05",
                                    "2": "2",
                                    "3": "Positive"
                                },
                                {
                                    "0": "236",
                                    "1": "0.05",
                                    "2": "1",
                                    "3": "Neutral"
                                },
                                {
                                    "0": "237",
                                    "1": "0.05",
                                    "2": "6",
                                    "3": "Neutral"
                                },
                                {
                                    "0": "238",
                                    "1": "0.10",
                                    "2": "1",
                                    "3": "Positive"
                                },
                                {
                                    "0": "239",
                                    "1": "0.10",
                                    "2": "1",
                                    "3": "Neutral"
                                },
                                {
                                    "0": "240",
                                    "1": "0.05",
                                    "2": "2",
                                    "3": "Neutral"
                                },
                                {
                                    "0": "241",
                                    "1": "0.07",
                                    "2": "1",
                                    "3": "Positive"
                                },
                                {
                                    "0": "242",
                                    "1": "0.10",
                                    "2": "5",
                                    "3": "Negative"
                                },
                                {
                                    "0": "243",
                                    "1": "0.05",
                                    "2": "6",
                                    "3": "Neutral"
                                },
                                {
                                    "0": "244",
                                    "1": "0.05",
                                    "2": "1",
                                    "3": "Positive"
                                },
                                {
                                    "0": "245",
                                    "1": "0.05",
                                    "2": "1",
                                    "3": "Neutral"
                                },
                                {
                                    "0": "246",
                                    "1": "0.05",
                                    "2": "2",
                                    "3": "Negative"
                                },
                                {
                                    "0": "247",
                                    "1": "0.10",
                                    "2": "1",
                                    "3": "Neutral"
                                },
                                {
                                    "0": "248",
                                    "1": "0.05",
                                    "2": "1",
                                    "3": "Positive"
                                },
                                {
                                    "0": "249",
                                    "1": "0.05",
                                    "2": "3",
                                    "3": "Negative"
                                },
                                {
                                    "0": "250",
                                    "1": "0.07",
                                    "2": "1",
                                    "3": "Neutral"
                                },
                                {
                                    "0": "251",
                                    "1": "0.05",
                                    "2": "3",
                                    "3": "Neutral"
                                },
                                {
                                    "0": "252",
                                    "1": "0.05",
                                    "2": "7",
                                    "3": "Negative"
                                },
                                {
                                    "0": "253",
                                    "1": "0.05",
                                    "2": "1",
                                    "3": "Neutral"
                                },
                                {
                                    "0": "254",
                                    "1": "0.07",
                                    "2": "1",
                                    "3": "Positive"
                                },
                                {
                                    "0": "255",
                                    "1": "0.07",
                                    "2": "1",
                                    "3": "Positive"
                                },
                                {
                                    "0": "256",
                                    "1": "0.10",
                                    "2": "1",
                                    "3": "Neutral"
                                },
                                {
                                    "0": "257",
                                    "1": "0.05",
                                    "2": "3",
                                    "3": "Negative"
                                },
                                {
                                    "0": "258",
                                    "1": "0.10",
                                    "2": "1",
                                    "3": "Neutral"
                                },
                                {
                                    "0": "259",
                                    "1": "0.07",
                                    "2": "1",
                                    "3": "Positive"
                                },
                                {
                                    "0": "260",
                                    "1": "0.07",
                                    "2": "5",
                                    "3": "Negative"
                                },
                                {
                                    "0": "261",
                                    "1": "0.07",
                                    "2": "2",
                                    "3": "Negative"
                                },
                                {
                                    "0": "262",
                                    "1": "0.10",
                                    "2": "1",
                                    "3": "Neutral"
                                },
                                {
                                    "0": "263",
                                    "1": "0.07",
                                    "2": "1",
                                    "3": "Positive"
                                },
                                {
                                    "0": "264",
                                    "1": "0.05",
                                    "2": "2",
                                    "3": "Negative"
                                },
                                {
                                    "0": "265",
                                    "1": "0.05",
                                    "2": "3",
                                    "3": "Neutral"
                                },
                                {
                                    "0": "266",
                                    "1": "0.10",
                                    "2": "1",
                                    "3": "Neutral"
                                },
                                {
                                    "0": "268",
                                    "1": "0.05",
                                    "2": "4",
                                    "3": "Negative"
                                },
                                {
                                    "0": "269",
                                    "1": "0.05",
                                    "2": "1",
                                    "3": "Neutral"
                                },
                                {
                                    "0": "270",
                                    "1": "0.05",
                                    "2": "1",
                                    "3": "Neutral"
                                },
                                {
                                    "0": "271",
                                    "1": "0.05",
                                    "2": "4",
                                    "3": "Negative"
                                },
                                {
                                    "0": "272",
                                    "1": "0.10",
                                    "2": "1",
                                    "3": "Neutral"
                                },
                                {
                                    "0": "273",
                                    "1": "0.07",
                                    "2": "1",
                                    "3": "Neutral"
                                },
                                {
                                    "0": "274",
                                    "1": "0.10",
                                    "2": "2",
                                    "3": "Neutral"
                                },
                                {
                                    "0": "275",
                                    "1": "0.05",
                                    "2": "2",
                                    "3": "Negative"
                                },
                                {
                                    "0": "276",
                                    "1": "0.07",
                                    "2": "1",
                                    "3": "Neutral"
                                },
                                {
                                    "0": "277",
                                    "1": "0.07",
                                    "2": "1",
                                    "3": "Neutral"
                                },
                                {
                                    "0": "278",
                                    "1": "0.10",
                                    "2": "2",
                                    "3": "Neutral"
                                },
                                {
                                    "0": "279",
                                    "1": "0.20",
                                    "2": "1",
                                    "3": "Neutral"
                                },
                                {
                                    "0": "280",
                                    "1": "0.05",
                                    "2": "1",
                                    "3": "Neutral"
                                },
                                {
                                    "0": "281",
                                    "1": "0.07",
                                    "2": "3",
                                    "3": "Neutral"
                                },
                                {
                                    "0": "282",
                                    "1": "0.05",
                                    "2": "3",
                                    "3": "Negative"
                                },
                                {
                                    "0": "283",
                                    "1": "0.05",
                                    "2": "2",
                                    "3": "Neutral"
                                },
                                {
                                    "0": "285",
                                    "1": "0.20",
                                    "2": "1",
                                    "3": "Neutral"
                                },
                                {
                                    "0": "286",
                                    "1": "0.07",
                                    "2": "1",
                                    "3": "Positive"
                                },
                                {
                                    "0": "287",
                                    "1": "0.05",
                                    "2": "1",
                                    "3": "Neutral"
                                },
                                {
                                    "0": "288",
                                    "1": "0.07",
                                    "2": "1",
                                    "3": "Neutral"
                                },
                                {
                                    "0": "289",
                                    "1": "0.05",
                                    "2": "2",
                                    "3": "Neutral"
                                },
                                {
                                    "0": "290",
                                    "1": "0.05",
                                    "2": "1",
                                    "3": "Neutral"
                                },
                                {
                                    "0": "292",
                                    "1": "0.05",
                                    "2": "4",
                                    "3": "Negative"
                                },
                                {
                                    "0": "293",
                                    "1": "0.05",
                                    "2": "3",
                                    "3": "Neutral"
                                },
                                {
                                    "0": "294",
                                    "1": "0.10",
                                    "2": "1",
                                    "3": "Neutral"
                                },
                                {
                                    "0": "295",
                                    "1": "0.05",
                                    "2": "4",
                                    "3": "Negative"
                                },
                                {
                                    "0": "296",
                                    "1": "0.20",
                                    "2": "1",
                                    "3": "Neutral"
                                },
                                {
                                    "0": "297",
                                    "1": "0.05",
                                    "2": "4",
                                    "3": "Negative"
                                },
                                {
                                    "0": "298",
                                    "1": "0.05",
                                    "2": "4",
                                    "3": "Negative"
                                },
                                {
                                    "0": "299",
                                    "1": "0.20",
                                    "2": "1",
                                    "3": "Neutral"
                                },
                                {
                                    "0": "300",
                                    "1": "0.05",
                                    "2": "1",
                                    "3": "Positive"
                                },
                                {
                                    "0": "301",
                                    "1": "0.07",
                                    "2": "2",
                                    "3": "Negative"
                                },
                                {
                                    "0": "302",
                                    "1": "0.05",
                                    "2": "4",
                                    "3": "Negative"
                                },
                                {
                                    "0": "303",
                                    "1": "0.07",
                                    "2": "2",
                                    "3": "Neutral"
                                },
                                {
                                    "0": "304",
                                    "1": "0.05",
                                    "2": "2",
                                    "3": "Positive"
                                },
                                {
                                    "0": "305",
                                    "1": "0.10",
                                    "2": "1",
                                    "3": "Neutral"
                                },
                                {
                                    "0": "306",
                                    "1": "0.05",
                                    "2": "4",
                                    "3": "Negative"
                                },
                                {
                                    "0": "307",
                                    "1": "0.07",
                                    "2": "3",
                                    "3": "Neutral"
                                },
                                {
                                    "0": "308",
                                    "1": "0.10",
                                    "2": "2",
                                    "3": "Positive"
                                },
                                {
                                    "0": "309",
                                    "1": "0.07",
                                    "2": "1",
                                    "3": "Neutral"
                                },
                                {
                                    "0": "310",
                                    "1": "0.05",
                                    "2": "3",
                                    "3": "Positive"
                                },
                                {
                                    "0": "311",
                                    "1": "0.10",
                                    "2": "1",
                                    "3": "Positive"
                                },
                                {
                                    "0": "312",
                                    "1": "0.10",
                                    "2": "2",
                                    "3": "Neutral"
                                },
                                {
                                    "0": "313",
                                    "1": "0.10",
                                    "2": "3",
                                    "3": "Negative"
                                },
                                {
                                    "0": "314",
                                    "1": "0.20",
                                    "2": "2",
                                    "3": "Neutral"
                                },
                                {
                                    "0": "315",
                                    "1": "0.05",
                                    "2": "2",
                                    "3": "Neutral"
                                }
                            ]
                        },
                        "text/html": [
                            "<table>",
                            "<tr><th>product_id</th><th>discount</th><th>total_quantity</th><th>Discount_Effect</th></tr>",
                            "<tr><td>2</td><td>0.05</td><td>26</td><td>Positive</td></tr>",
                            "<tr><td>3</td><td>0.05</td><td>37</td><td>Negative</td></tr>",
                            "<tr><td>4</td><td>0.05</td><td>35</td><td>Positive</td></tr>",
                            "<tr><td>5</td><td>0.05</td><td>34</td><td>Negative</td></tr>",
                            "<tr><td>6</td><td>0.05</td><td>46</td><td>Negative</td></tr>",
                            "<tr><td>7</td><td>0.05</td><td>44</td><td>Negative</td></tr>",
                            "<tr><td>8</td><td>0.05</td><td>41</td><td>Negative</td></tr>",
                            "<tr><td>9</td><td>0.05</td><td>37</td><td>Negative</td></tr>",
                            "<tr><td>10</td><td>0.05</td><td>40</td><td>Negative</td></tr>",
                            "<tr><td>11</td><td>0.05</td><td>27</td><td>Positive</td></tr>",
                            "<tr><td>12</td><td>0.05</td><td>40</td><td>Negative</td></tr>",
                            "<tr><td>13</td><td>0.05</td><td>37</td><td>Positive</td></tr>",
                            "<tr><td>14</td><td>0.05</td><td>21</td><td>Positive</td></tr>",
                            "<tr><td>15</td><td>0.05</td><td>36</td><td>Negative</td></tr>",
                            "<tr><td>16</td><td>0.05</td><td>42</td><td>Negative</td></tr>",
                            "<tr><td>17</td><td>0.05</td><td>35</td><td>Negative</td></tr>",
                            "<tr><td>18</td><td>0.05</td><td>40</td><td>Negative</td></tr>",
                            "<tr><td>19</td><td>0.05</td><td>21</td><td>Positive</td></tr>",
                            "<tr><td>20</td><td>0.05</td><td>32</td><td>Negative</td></tr>",
                            "<tr><td>21</td><td>0.05</td><td>37</td><td>Negative</td></tr>",
                            "<tr><td>22</td><td>0.05</td><td>30</td><td>Positive</td></tr>",
                            "<tr><td>23</td><td>0.05</td><td>36</td><td>Positive</td></tr>",
                            "<tr><td>24</td><td>0.05</td><td>32</td><td>Positive</td></tr>",
                            "<tr><td>25</td><td>0.05</td><td>44</td><td>Negative</td></tr>",
                            "<tr><td>26</td><td>0.05</td><td>47</td><td>Negative</td></tr>",
                            "<tr><td>27</td><td>0.05</td><td>7</td><td>Positive</td></tr>",
                            "<tr><td>28</td><td>0.05</td><td>11</td><td>Negative</td></tr>",
                            "<tr><td>29</td><td>0.05</td><td>10</td><td>Negative</td></tr>",
                            "<tr><td>30</td><td>0.05</td><td>15</td><td>Negative</td></tr>",
                            "<tr><td>31</td><td>0.05</td><td>3</td><td>Positive</td></tr>",
                            "<tr><td>32</td><td>0.05</td><td>6</td><td>Positive</td></tr>",
                            "<tr><td>33</td><td>0.05</td><td>3</td><td>Positive</td></tr>",
                            "<tr><td>34</td><td>0.05</td><td>8</td><td>Negative</td></tr>",
                            "<tr><td>35</td><td>0.05</td><td>7</td><td>Negative</td></tr>",
                            "<tr><td>36</td><td>0.05</td><td>7</td><td>Positive</td></tr>",
                            "<tr><td>37</td><td>0.05</td><td>1</td><td>Positive</td></tr>",
                            "<tr><td>38</td><td>0.05</td><td>5</td><td>Positive</td></tr>",
                            "<tr><td>39</td><td>0.05</td><td>8</td><td>Negative</td></tr>",
                            "<tr><td>40</td><td>0.05</td><td>7</td><td>Positive</td></tr>",
                            "<tr><td>41</td><td>0.05</td><td>17</td><td>Negative</td></tr>",
                            "<tr><td>42</td><td>0.05</td><td>7</td><td>Positive</td></tr>",
                            "<tr><td>43</td><td>0.05</td><td>7</td><td>Positive</td></tr>",
                            "<tr><td>44</td><td>0.05</td><td>5</td><td>Neutral</td></tr>",
                            "<tr><td>45</td><td>0.05</td><td>12</td><td>Positive</td></tr>",
                            "<tr><td>46</td><td>0.05</td><td>6</td><td>Positive</td></tr>",
                            "<tr><td>47</td><td>0.05</td><td>9</td><td>Negative</td></tr>",
                            "<tr><td>48</td><td>0.05</td><td>16</td><td>Negative</td></tr>",
                            "<tr><td>49</td><td>0.05</td><td>8</td><td>Positive</td></tr>",
                            "<tr><td>50</td><td>0.05</td><td>9</td><td>Negative</td></tr>",
                            "<tr><td>51</td><td>0.05</td><td>9</td><td>Positive</td></tr>",
                            "<tr><td>52</td><td>0.05</td><td>12</td><td>Negative</td></tr>",
                            "<tr><td>53</td><td>0.05</td><td>6</td><td>Negative</td></tr>",
                            "<tr><td>54</td><td>0.05</td><td>9</td><td>Negative</td></tr>",
                            "<tr><td>55</td><td>0.05</td><td>10</td><td>Negative</td></tr>",
                            "<tr><td>56</td><td>0.05</td><td>11</td><td>Negative</td></tr>",
                            "<tr><td>57</td><td>0.05</td><td>7</td><td>Negative</td></tr>",
                            "<tr><td>58</td><td>0.05</td><td>8</td><td>Positive</td></tr>",
                            "<tr><td>59</td><td>0.05</td><td>6</td><td>Neutral</td></tr>",
                            "<tr><td>60</td><td>0.05</td><td>9</td><td>Negative</td></tr>",
                            "<tr><td>61</td><td>0.05</td><td>15</td><td>Negative</td></tr>",
                            "<tr><td>62</td><td>0.05</td><td>5</td><td>Positive</td></tr>",
                            "<tr><td>63</td><td>0.05</td><td>6</td><td>Positive</td></tr>",
                            "<tr><td>64</td><td>0.05</td><td>3</td><td>Positive</td></tr>",
                            "<tr><td>65</td><td>0.05</td><td>13</td><td>Positive</td></tr>",
                            "<tr><td>66</td><td>0.05</td><td>8</td><td>Positive</td></tr>",
                            "<tr><td>67</td><td>0.05</td><td>6</td><td>Neutral</td></tr>",
                            "<tr><td>68</td><td>0.05</td><td>7</td><td>Negative</td></tr>",
                            "<tr><td>69</td><td>0.05</td><td>10</td><td>Negative</td></tr>",
                            "<tr><td>70</td><td>0.05</td><td>10</td><td>Negative</td></tr>",
                            "<tr><td>71</td><td>0.05</td><td>17</td><td>Negative</td></tr>",
                            "<tr><td>72</td><td>0.05</td><td>9</td><td>Negative</td></tr>",
                            "<tr><td>73</td><td>0.05</td><td>9</td><td>Negative</td></tr>",
                            "<tr><td>74</td><td>0.05</td><td>8</td><td>Negative</td></tr>",
                            "<tr><td>75</td><td>0.05</td><td>12</td><td>Negative</td></tr>",
                            "<tr><td>76</td><td>0.05</td><td>3</td><td>Positive</td></tr>",
                            "<tr><td>77</td><td>0.05</td><td>12</td><td>Negative</td></tr>",
                            "<tr><td>78</td><td>0.05</td><td>14</td><td>Negative</td></tr>",
                            "<tr><td>79</td><td>0.07</td><td>6</td><td>Positive</td></tr>",
                            "<tr><td>80</td><td>0.05</td><td>5</td><td>Positive</td></tr>",
                            "<tr><td>81</td><td>0.05</td><td>11</td><td>Negative</td></tr>",
                            "<tr><td>82</td><td>0.05</td><td>5</td><td>Positive</td></tr>",
                            "<tr><td>83</td><td>0.05</td><td>11</td><td>Negative</td></tr>",
                            "<tr><td>84</td><td>0.05</td><td>7</td><td>Negative</td></tr>",
                            "<tr><td>85</td><td>0.05</td><td>7</td><td>Positive</td></tr>",
                            "<tr><td>86</td><td>0.05</td><td>10</td><td>Negative</td></tr>",
                            "<tr><td>87</td><td>0.07</td><td>9</td><td>Positive</td></tr>",
                            "<tr><td>88</td><td>0.05</td><td>9</td><td>Negative</td></tr>",
                            "<tr><td>89</td><td>0.05</td><td>6</td><td>Positive</td></tr>",
                            "<tr><td>90</td><td>0.05</td><td>1</td><td>Positive</td></tr>",
                            "<tr><td>91</td><td>0.05</td><td>12</td><td>Negative</td></tr>",
                            "<tr><td>92</td><td>0.05</td><td>3</td><td>Positive</td></tr>",
                            "<tr><td>93</td><td>0.05</td><td>10</td><td>Negative</td></tr>",
                            "<tr><td>94</td><td>0.05</td><td>9</td><td>Negative</td></tr>",
                            "<tr><td>95</td><td>0.05</td><td>19</td><td>Negative</td></tr>",
                            "<tr><td>96</td><td>0.05</td><td>4</td><td>Positive</td></tr>",
                            "<tr><td>97</td><td>0.05</td><td>6</td><td>Positive</td></tr>",
                            "<tr><td>98</td><td>0.05</td><td>5</td><td>Neutral</td></tr>",
                            "<tr><td>99</td><td>0.05</td><td>10</td><td>Negative</td></tr>",
                            "<tr><td>100</td><td>0.05</td><td>13</td><td>Negative</td></tr>",
                            "<tr><td>101</td><td>0.05</td><td>8</td><td>Positive</td></tr>",
                            "<tr><td>102</td><td>0.05</td><td>13</td><td>Negative</td></tr>",
                            "<tr><td>103</td><td>0.05</td><td>16</td><td>Negative</td></tr>",
                            "<tr><td>104</td><td>0.05</td><td>7</td><td>Neutral</td></tr>",
                            "<tr><td>105</td><td>0.05</td><td>6</td><td>Positive</td></tr>",
                            "<tr><td>106</td><td>0.05</td><td>15</td><td>Negative</td></tr>",
                            "<tr><td>107</td><td>0.05</td><td>13</td><td>Negative</td></tr>",
                            "<tr><td>108</td><td>0.05</td><td>8</td><td>Neutral</td></tr>",
                            "<tr><td>109</td><td>0.05</td><td>6</td><td>Positive</td></tr>",
                            "<tr><td>110</td><td>0.05</td><td>6</td><td>Neutral</td></tr>",
                            "<tr><td>111</td><td>0.05</td><td>6</td><td>Neutral</td></tr>",
                            "<tr><td>112</td><td>0.05</td><td>2</td><td>Negative</td></tr>",
                            "<tr><td>113</td><td>0.05</td><td>1</td><td>Positive</td></tr>",
                            "<tr><td>114</td><td>0.07</td><td>1</td><td>Positive</td></tr>",
                            "<tr><td>115</td><td>0.05</td><td>1</td><td>Neutral</td></tr>",
                            "<tr><td>116</td><td>0.07</td><td>2</td><td>Negative</td></tr>",
                            "<tr><td>117</td><td>0.05</td><td>2</td><td>Neutral</td></tr>",
                            "<tr><td>118</td><td>0.10</td><td>1</td><td>Positive</td></tr>",
                            "<tr><td>119</td><td>0.05</td><td>3</td><td>Negative</td></tr>",
                            "<tr><td>120</td><td>0.20</td><td>4</td><td>Neutral</td></tr>",
                            "<tr><td>122</td><td>0.05</td><td>2</td><td>Negative</td></tr>",
                            "<tr><td>123</td><td>0.05</td><td>1</td><td>Positive</td></tr>",
                            "<tr><td>124</td><td>0.07</td><td>5</td><td>Negative</td></tr>",
                            "<tr><td>126</td><td>0.05</td><td>2</td><td>Negative</td></tr>",
                            "<tr><td>127</td><td>0.07</td><td>2</td><td>Positive</td></tr>",
                            "<tr><td>128</td><td>0.05</td><td>2</td><td>Positive</td></tr>",
                            "<tr><td>129</td><td>0.07</td><td>1</td><td>Positive</td></tr>",
                            "<tr><td>130</td><td>0.05</td><td>1</td><td>Neutral</td></tr>",
                            "<tr><td>131</td><td>0.07</td><td>2</td><td>Neutral</td></tr>",
                            "<tr><td>132</td><td>0.10</td><td>3</td><td>Neutral</td></tr>",
                            "<tr><td>133</td><td>0.07</td><td>2</td><td>Negative</td></tr>",
                            "<tr><td>134</td><td>0.05</td><td>2</td><td>Negative</td></tr>",
                            "<tr><td>135</td><td>0.05</td><td>1</td><td>Neutral</td></tr>",
                            "<tr><td>136</td><td>0.07</td><td>1</td><td>Positive</td></tr>",
                            "<tr><td>137</td><td>0.05</td><td>1</td><td>Positive</td></tr>",
                            "<tr><td>138</td><td>0.05</td><td>6</td><td>Neutral</td></tr>",
                            "<tr><td>139</td><td>0.05</td><td>2</td><td>Positive</td></tr>",
                            "<tr><td>140</td><td>0.20</td><td>3</td><td>Neutral</td></tr>",
                            "<tr><td>141</td><td>0.05</td><td>2</td><td>Neutral</td></tr>",
                            "<tr><td>142</td><td>0.05</td><td>2</td><td>Positive</td></tr>",
                            "<tr><td>143</td><td>0.07</td><td>1</td><td>Neutral</td></tr>",
                            "<tr><td>144</td><td>0.07</td><td>1</td><td>Positive</td></tr>",
                            "<tr><td>145</td><td>0.07</td><td>3</td><td>Negative</td></tr>",
                            "<tr><td>146</td><td>0.10</td><td>1</td><td>Neutral</td></tr>",
                            "<tr><td>147</td><td>0.05</td><td>2</td><td>Neutral</td></tr>",
                            "<tr><td>148</td><td>0.05</td><td>1</td><td>Neutral</td></tr>",
                            "<tr><td>149</td><td>0.05</td><td>3</td><td>Negative</td></tr>",
                            "<tr><td>150</td><td>0.05</td><td>1</td><td>Neutral</td></tr>",
                            "<tr><td>151</td><td>0.05</td><td>2</td><td>Neutral</td></tr>",
                            "<tr><td>152</td><td>0.10</td><td>1</td><td>Positive</td></tr>",
                            "<tr><td>153</td><td>0.05</td><td>3</td><td>Negative</td></tr>",
                            "<tr><td>155</td><td>0.07</td><td>1</td><td>Positive</td></tr>",
                            "<tr><td>156</td><td>0.10</td><td>3</td><td>Neutral</td></tr>",
                            "<tr><td>157</td><td>0.05</td><td>1</td><td>Neutral</td></tr>",
                            "<tr><td>158</td><td>0.07</td><td>2</td><td>Positive</td></tr>",
                            "<tr><td>159</td><td>0.05</td><td>3</td><td>Positive</td></tr>",
                            "<tr><td>160</td><td>0.07</td><td>4</td><td>Negative</td></tr>",
                            "<tr><td>161</td><td>0.05</td><td>2</td><td>Negative</td></tr>",
                            "<tr><td>162</td><td>0.10</td><td>4</td><td>Neutral</td></tr>",
                            "<tr><td>163</td><td>0.07</td><td>4</td><td>Neutral</td></tr>",
                            "<tr><td>164</td><td>0.07</td><td>2</td><td>Neutral</td></tr>",
                            "<tr><td>165</td><td>0.05</td><td>2</td><td>Neutral</td></tr>",
                            "<tr><td>166</td><td>0.05</td><td>1</td><td>Neutral</td></tr>",
                            "<tr><td>167</td><td>0.05</td><td>1</td><td>Neutral</td></tr>",
                            "<tr><td>168</td><td>0.05</td><td>1</td><td>Neutral</td></tr>",
                            "<tr><td>169</td><td>0.07</td><td>4</td><td>Neutral</td></tr>",
                            "<tr><td>170</td><td>0.07</td><td>1</td><td>Neutral</td></tr>",
                            "<tr><td>171</td><td>0.05</td><td>4</td><td>Neutral</td></tr>",
                            "<tr><td>172</td><td>0.05</td><td>3</td><td>Negative</td></tr>",
                            "<tr><td>173</td><td>0.10</td><td>2</td><td>Positive</td></tr>",
                            "<tr><td>174</td><td>0.20</td><td>1</td><td>Neutral</td></tr>",
                            "<tr><td>175</td><td>0.07</td><td>3</td><td>Neutral</td></tr>",
                            "<tr><td>176</td><td>0.07</td><td>1</td><td>Neutral</td></tr>",
                            "<tr><td>177</td><td>0.05</td><td>2</td><td>Neutral</td></tr>",
                            "<tr><td>178</td><td>0.05</td><td>2</td><td>Neutral</td></tr>",
                            "<tr><td>179</td><td>0.05</td><td>1</td><td>Positive</td></tr>",
                            "<tr><td>180</td><td>0.07</td><td>2</td><td>Positive</td></tr>",
                            "<tr><td>181</td><td>0.05</td><td>2</td><td>Negative</td></tr>",
                            "<tr><td>182</td><td>0.05</td><td>2</td><td>Negative</td></tr>",
                            "<tr><td>183</td><td>0.20</td><td>1</td><td>Neutral</td></tr>",
                            "<tr><td>184</td><td>0.05</td><td>1</td><td>Positive</td></tr>",
                            "<tr><td>185</td><td>0.07</td><td>2</td><td>Positive</td></tr>",
                            "<tr><td>186</td><td>0.05</td><td>1</td><td>Neutral</td></tr>",
                            "<tr><td>187</td><td>0.07</td><td>2</td><td>Negative</td></tr>",
                            "<tr><td>188</td><td>0.07</td><td>3</td><td>Positive</td></tr>",
                            "<tr><td>189</td><td>0.20</td><td>2</td><td>Neutral</td></tr>",
                            "<tr><td>190</td><td>0.07</td><td>4</td><td>Negative</td></tr>",
                            "<tr><td>191</td><td>0.07</td><td>1</td><td>Positive</td></tr>",
                            "<tr><td>192</td><td>0.05</td><td>1</td><td>Neutral</td></tr>",
                            "<tr><td>193</td><td>0.05</td><td>2</td><td>Negative</td></tr>",
                            "<tr><td>194</td><td>0.10</td><td>5</td><td>Negative</td></tr>",
                            "<tr><td>196</td><td>0.05</td><td>1</td><td>Positive</td></tr>",
                            "<tr><td>197</td><td>0.10</td><td>1</td><td>Positive</td></tr>",
                            "<tr><td>198</td><td>0.05</td><td>1</td><td>Positive</td></tr>",
                            "<tr><td>199</td><td>0.10</td><td>2</td><td>Neutral</td></tr>",
                            "<tr><td>200</td><td>0.07</td><td>1</td><td>Neutral</td></tr>",
                            "<tr><td>201</td><td>0.05</td><td>1</td><td>Neutral</td></tr>",
                            "<tr><td>202</td><td>0.05</td><td>2</td><td>Negative</td></tr>",
                            "<tr><td>203</td><td>0.05</td><td>6</td><td>Negative</td></tr>",
                            "<tr><td>204</td><td>0.07</td><td>6</td><td>Negative</td></tr>",
                            "<tr><td>205</td><td>0.05</td><td>4</td><td>Negative</td></tr>",
                            "<tr><td>206</td><td>0.07</td><td>1</td><td>Neutral</td></tr>",
                            "<tr><td>207</td><td>0.07</td><td>2</td><td>Positive</td></tr>",
                            "<tr><td>208</td><td>0.07</td><td>1</td><td>Positive</td></tr>",
                            "<tr><td>209</td><td>0.07</td><td>2</td><td>Positive</td></tr>",
                            "<tr><td>210</td><td>0.05</td><td>1</td><td>Positive</td></tr>",
                            "<tr><td>211</td><td>0.05</td><td>2</td><td>Neutral</td></tr>",
                            "<tr><td>212</td><td>0.07</td><td>1</td><td>Neutral</td></tr>",
                            "<tr><td>213</td><td>0.05</td><td>2</td><td>Negative</td></tr>",
                            "<tr><td>214</td><td>0.07</td><td>2</td><td>Positive</td></tr>",
                            "<tr><td>215</td><td>0.07</td><td>5</td><td>Negative</td></tr>",
                            "<tr><td>216</td><td>0.05</td><td>2</td><td>Neutral</td></tr>",
                            "<tr><td>217</td><td>0.07</td><td>1</td><td>Neutral</td></tr>",
                            "<tr><td>218</td><td>0.05</td><td>1</td><td>Neutral</td></tr>",
                            "<tr><td>219</td><td>0.07</td><td>1</td><td>Positive</td></tr>",
                            "<tr><td>220</td><td>0.07</td><td>3</td><td>Neutral</td></tr>",
                            "<tr><td>221</td><td>0.05</td><td>1</td><td>Neutral</td></tr>",
                            "<tr><td>222</td><td>0.10</td><td>1</td><td>Neutral</td></tr>",
                            "<tr><td>223</td><td>0.05</td><td>2</td><td>Neutral</td></tr>",
                            "<tr><td>224</td><td>0.05</td><td>4</td><td>Neutral</td></tr>",
                            "<tr><td>225</td><td>0.07</td><td>2</td><td>Neutral</td></tr>",
                            "<tr><td>226</td><td>0.05</td><td>2</td><td>Negative</td></tr>",
                            "<tr><td>227</td><td>0.05</td><td>3</td><td>Negative</td></tr>",
                            "<tr><td>228</td><td>0.07</td><td>1</td><td>Positive</td></tr>",
                            "<tr><td>229</td><td>0.07</td><td>2</td><td>Positive</td></tr>",
                            "<tr><td>230</td><td>0.05</td><td>3</td><td>Negative</td></tr>",
                            "<tr><td>231</td><td>0.05</td><td>2</td><td>Neutral</td></tr>",
                            "<tr><td>232</td><td>0.20</td><td>2</td><td>Neutral</td></tr>",
                            "<tr><td>233</td><td>0.05</td><td>2</td><td>Negative</td></tr>",
                            "<tr><td>234</td><td>0.05</td><td>4</td><td>Negative</td></tr>",
                            "<tr><td>235</td><td>0.05</td><td>2</td><td>Positive</td></tr>",
                            "<tr><td>236</td><td>0.05</td><td>1</td><td>Neutral</td></tr>",
                            "<tr><td>237</td><td>0.05</td><td>6</td><td>Neutral</td></tr>",
                            "<tr><td>238</td><td>0.10</td><td>1</td><td>Positive</td></tr>",
                            "<tr><td>239</td><td>0.10</td><td>1</td><td>Neutral</td></tr>",
                            "<tr><td>240</td><td>0.05</td><td>2</td><td>Neutral</td></tr>",
                            "<tr><td>241</td><td>0.07</td><td>1</td><td>Positive</td></tr>",
                            "<tr><td>242</td><td>0.10</td><td>5</td><td>Negative</td></tr>",
                            "<tr><td>243</td><td>0.05</td><td>6</td><td>Neutral</td></tr>",
                            "<tr><td>244</td><td>0.05</td><td>1</td><td>Positive</td></tr>",
                            "<tr><td>245</td><td>0.05</td><td>1</td><td>Neutral</td></tr>",
                            "<tr><td>246</td><td>0.05</td><td>2</td><td>Negative</td></tr>",
                            "<tr><td>247</td><td>0.10</td><td>1</td><td>Neutral</td></tr>",
                            "<tr><td>248</td><td>0.05</td><td>1</td><td>Positive</td></tr>",
                            "<tr><td>249</td><td>0.05</td><td>3</td><td>Negative</td></tr>",
                            "<tr><td>250</td><td>0.07</td><td>1</td><td>Neutral</td></tr>",
                            "<tr><td>251</td><td>0.05</td><td>3</td><td>Neutral</td></tr>",
                            "<tr><td>252</td><td>0.05</td><td>7</td><td>Negative</td></tr>",
                            "<tr><td>253</td><td>0.05</td><td>1</td><td>Neutral</td></tr>",
                            "<tr><td>254</td><td>0.07</td><td>1</td><td>Positive</td></tr>",
                            "<tr><td>255</td><td>0.07</td><td>1</td><td>Positive</td></tr>",
                            "<tr><td>256</td><td>0.10</td><td>1</td><td>Neutral</td></tr>",
                            "<tr><td>257</td><td>0.05</td><td>3</td><td>Negative</td></tr>",
                            "<tr><td>258</td><td>0.10</td><td>1</td><td>Neutral</td></tr>",
                            "<tr><td>259</td><td>0.07</td><td>1</td><td>Positive</td></tr>",
                            "<tr><td>260</td><td>0.07</td><td>5</td><td>Negative</td></tr>",
                            "<tr><td>261</td><td>0.07</td><td>2</td><td>Negative</td></tr>",
                            "<tr><td>262</td><td>0.10</td><td>1</td><td>Neutral</td></tr>",
                            "<tr><td>263</td><td>0.07</td><td>1</td><td>Positive</td></tr>",
                            "<tr><td>264</td><td>0.05</td><td>2</td><td>Negative</td></tr>",
                            "<tr><td>265</td><td>0.05</td><td>3</td><td>Neutral</td></tr>",
                            "<tr><td>266</td><td>0.10</td><td>1</td><td>Neutral</td></tr>",
                            "<tr><td>268</td><td>0.05</td><td>4</td><td>Negative</td></tr>",
                            "<tr><td>269</td><td>0.05</td><td>1</td><td>Neutral</td></tr>",
                            "<tr><td>270</td><td>0.05</td><td>1</td><td>Neutral</td></tr>",
                            "<tr><td>271</td><td>0.05</td><td>4</td><td>Negative</td></tr>",
                            "<tr><td>272</td><td>0.10</td><td>1</td><td>Neutral</td></tr>",
                            "<tr><td>273</td><td>0.07</td><td>1</td><td>Neutral</td></tr>",
                            "<tr><td>274</td><td>0.10</td><td>2</td><td>Neutral</td></tr>",
                            "<tr><td>275</td><td>0.05</td><td>2</td><td>Negative</td></tr>",
                            "<tr><td>276</td><td>0.07</td><td>1</td><td>Neutral</td></tr>",
                            "<tr><td>277</td><td>0.07</td><td>1</td><td>Neutral</td></tr>",
                            "<tr><td>278</td><td>0.10</td><td>2</td><td>Neutral</td></tr>",
                            "<tr><td>279</td><td>0.20</td><td>1</td><td>Neutral</td></tr>",
                            "<tr><td>280</td><td>0.05</td><td>1</td><td>Neutral</td></tr>",
                            "<tr><td>281</td><td>0.07</td><td>3</td><td>Neutral</td></tr>",
                            "<tr><td>282</td><td>0.05</td><td>3</td><td>Negative</td></tr>",
                            "<tr><td>283</td><td>0.05</td><td>2</td><td>Neutral</td></tr>",
                            "<tr><td>285</td><td>0.20</td><td>1</td><td>Neutral</td></tr>",
                            "<tr><td>286</td><td>0.07</td><td>1</td><td>Positive</td></tr>",
                            "<tr><td>287</td><td>0.05</td><td>1</td><td>Neutral</td></tr>",
                            "<tr><td>288</td><td>0.07</td><td>1</td><td>Neutral</td></tr>",
                            "<tr><td>289</td><td>0.05</td><td>2</td><td>Neutral</td></tr>",
                            "<tr><td>290</td><td>0.05</td><td>1</td><td>Neutral</td></tr>",
                            "<tr><td>292</td><td>0.05</td><td>4</td><td>Negative</td></tr>",
                            "<tr><td>293</td><td>0.05</td><td>3</td><td>Neutral</td></tr>",
                            "<tr><td>294</td><td>0.10</td><td>1</td><td>Neutral</td></tr>",
                            "<tr><td>295</td><td>0.05</td><td>4</td><td>Negative</td></tr>",
                            "<tr><td>296</td><td>0.20</td><td>1</td><td>Neutral</td></tr>",
                            "<tr><td>297</td><td>0.05</td><td>4</td><td>Negative</td></tr>",
                            "<tr><td>298</td><td>0.05</td><td>4</td><td>Negative</td></tr>",
                            "<tr><td>299</td><td>0.20</td><td>1</td><td>Neutral</td></tr>",
                            "<tr><td>300</td><td>0.05</td><td>1</td><td>Positive</td></tr>",
                            "<tr><td>301</td><td>0.07</td><td>2</td><td>Negative</td></tr>",
                            "<tr><td>302</td><td>0.05</td><td>4</td><td>Negative</td></tr>",
                            "<tr><td>303</td><td>0.07</td><td>2</td><td>Neutral</td></tr>",
                            "<tr><td>304</td><td>0.05</td><td>2</td><td>Positive</td></tr>",
                            "<tr><td>305</td><td>0.10</td><td>1</td><td>Neutral</td></tr>",
                            "<tr><td>306</td><td>0.05</td><td>4</td><td>Negative</td></tr>",
                            "<tr><td>307</td><td>0.07</td><td>3</td><td>Neutral</td></tr>",
                            "<tr><td>308</td><td>0.10</td><td>2</td><td>Positive</td></tr>",
                            "<tr><td>309</td><td>0.07</td><td>1</td><td>Neutral</td></tr>",
                            "<tr><td>310</td><td>0.05</td><td>3</td><td>Positive</td></tr>",
                            "<tr><td>311</td><td>0.10</td><td>1</td><td>Positive</td></tr>",
                            "<tr><td>312</td><td>0.10</td><td>2</td><td>Neutral</td></tr>",
                            "<tr><td>313</td><td>0.10</td><td>3</td><td>Negative</td></tr>",
                            "<tr><td>314</td><td>0.20</td><td>2</td><td>Neutral</td></tr>",
                            "<tr><td>315</td><td>0.05</td><td>2</td><td>Neutral</td></tr>",
                            "</table>"
                        ]
                    }
                }
            ],
            "execution_count": 6
        },
        {
            "cell_type": "code",
            "source": [
                "drop table if exists #temp_tbl_4;\r\n",
                "\r\n",
                "--Create temp table 4\r\n",
                "SELECT  Discount_Effect\r\n",
                "        ,COUNT(product_id) Total_Discount_Effect\r\n",
                "INTO    #temp_tbl_4\r\n",
                "FROM    #temp_tbl_3\r\n",
                "GROUP BY Discount_Effect\r\n",
                "\r\n",
                "SELECT  *\r\n",
                "FROM    #temp_tbl_4\r\n",
                "ORDER BY 1 DESC\r\n",
                "--examine result: Total Effect\r\n",
                "GO"
            ],
            "metadata": {
                "language": "sql",
                "azdata_cell_guid": "c0a38717-264f-4290-b719-820038797a9e"
            },
            "outputs": [
                {
                    "output_type": "display_data",
                    "data": {
                        "text/html": "(3 rows affected)"
                    },
                    "metadata": {}
                },
                {
                    "output_type": "display_data",
                    "data": {
                        "text/html": "(3 rows affected)"
                    },
                    "metadata": {}
                },
                {
                    "output_type": "display_data",
                    "data": {
                        "text/html": "Total execution time: 00:00:00.010"
                    },
                    "metadata": {}
                },
                {
                    "output_type": "execute_result",
                    "metadata": {},
                    "execution_count": 7,
                    "data": {
                        "application/vnd.dataresource+json": {
                            "schema": {
                                "fields": [
                                    {
                                        "name": "Discount_Effect"
                                    },
                                    {
                                        "name": "Total_Discount_Effect"
                                    }
                                ]
                            },
                            "data": [
                                {
                                    "0": "Positive",
                                    "1": "92"
                                },
                                {
                                    "0": "Neutral",
                                    "1": "105"
                                },
                                {
                                    "0": "Negative",
                                    "1": "110"
                                }
                            ]
                        },
                        "text/html": [
                            "<table>",
                            "<tr><th>Discount_Effect</th><th>Total_Discount_Effect</th></tr>",
                            "<tr><td>Positive</td><td>92</td></tr>",
                            "<tr><td>Neutral</td><td>105</td></tr>",
                            "<tr><td>Negative</td><td>110</td></tr>",
                            "</table>"
                        ]
                    }
                }
            ],
            "execution_count": 7
        },
        {
            "cell_type": "code",
            "source": [
                "select  (\r\n",
                "        SELECT  SUM(Total_Discount_Effect)\r\n",
                "        FROM    #temp_tbl_4\r\n",
                "        WHERE   Discount_Effect NOT IN ('Negative')\r\n",
                "        ) 'number of positively affected products'\r\n",
                "        ,(\r\n",
                "        SELECT  SUM(Total_Discount_Effect)\r\n",
                "        FROM    #temp_tbl_4\r\n",
                "        WHERE   Discount_Effect IN ('Negative')\r\n",
                "        ) 'number of negatively affected products'\r\n",
                "GO"
            ],
            "metadata": {
                "language": "sql",
                "azdata_cell_guid": "58bc9143-0b3c-48cc-bd94-e84b6304d99f"
            },
            "outputs": [
                {
                    "output_type": "display_data",
                    "data": {
                        "text/html": "(1 row affected)"
                    },
                    "metadata": {}
                },
                {
                    "output_type": "display_data",
                    "data": {
                        "text/html": "Total execution time: 00:00:00.008"
                    },
                    "metadata": {}
                },
                {
                    "output_type": "execute_result",
                    "metadata": {},
                    "execution_count": 8,
                    "data": {
                        "application/vnd.dataresource+json": {
                            "schema": {
                                "fields": [
                                    {
                                        "name": "number of positively affected products"
                                    },
                                    {
                                        "name": "number of negatively affected products"
                                    }
                                ]
                            },
                            "data": [
                                {
                                    "0": "197",
                                    "1": "110"
                                }
                            ]
                        },
                        "text/html": [
                            "<table>",
                            "<tr><th>number of positively affected products</th><th>number of negatively affected products</th></tr>",
                            "<tr><td>197</td><td>110</td></tr>",
                            "</table>"
                        ]
                    }
                }
            ],
            "execution_count": 8
        },
        {
            "cell_type": "code",
            "source": [
                "--result:\r\n",
                "--Mostly discount effect look like positively. \r\n",
                "--Discounts have been increasing orders and sales."
            ],
            "metadata": {
                "language": "sql",
                "azdata_cell_guid": "bb8a98d5-2e0c-4f41-a45c-4445ea477106"
            },
            "outputs": [
                {
                    "output_type": "display_data",
                    "data": {
                        "text/html": "Commands completed successfully."
                    },
                    "metadata": {}
                },
                {
                    "output_type": "display_data",
                    "data": {
                        "text/html": "Total execution time: 00:00:00"
                    },
                    "metadata": {}
                }
            ],
            "execution_count": 9
        }
    ]
}